{
  "cells": [
    {
      "cell_type": "code",
      "execution_count": 1,
      "metadata": {
        "colab": {
          "base_uri": "https://localhost:8080/"
        },
        "id": "zi3mK2cRI42Q",
        "outputId": "0c0d61e0-8f45-431c-86b7-fd19fc1170a5"
      },
      "outputs": [
        {
          "name": "stdout",
          "output_type": "stream",
          "text": [
            "Collecting geocoder\n",
            "  Downloading geocoder-1.38.1-py2.py3-none-any.whl (98 kB)\n",
            "Collecting ratelim\n",
            "  Downloading ratelim-0.1.6-py2.py3-none-any.whl (4.0 kB)\n",
            "Requirement already satisfied: future in c:\\programdata\\anaconda3\\lib\\site-packages (from geocoder) (0.18.2)\n",
            "Requirement already satisfied: requests in c:\\programdata\\anaconda3\\lib\\site-packages (from geocoder) (2.24.0)\n",
            "Requirement already satisfied: click in c:\\programdata\\anaconda3\\lib\\site-packages (from geocoder) (7.1.2)\n",
            "Requirement already satisfied: six in c:\\programdata\\anaconda3\\lib\\site-packages (from geocoder) (1.15.0)\n",
            "Requirement already satisfied: decorator in c:\\programdata\\anaconda3\\lib\\site-packages (from ratelim->geocoder) (4.4.2)\n",
            "Requirement already satisfied: certifi>=2017.4.17 in c:\\programdata\\anaconda3\\lib\\site-packages (from requests->geocoder) (2020.6.20)\n",
            "Requirement already satisfied: idna<3,>=2.5 in c:\\programdata\\anaconda3\\lib\\site-packages (from requests->geocoder) (2.10)\n",
            "Requirement already satisfied: chardet<4,>=3.0.2 in c:\\programdata\\anaconda3\\lib\\site-packages (from requests->geocoder) (3.0.4)\n",
            "Requirement already satisfied: urllib3!=1.25.0,!=1.25.1,<1.26,>=1.21.1 in c:\\programdata\\anaconda3\\lib\\site-packages (from requests->geocoder) (1.25.9)\n",
            "Installing collected packages: ratelim, geocoder\n",
            "Successfully installed geocoder-1.38.1 ratelim-0.1.6\n",
            "Note: you may need to restart the kernel to use updated packages.\n"
          ]
        }
      ],
      "source": [
        "%pip install geocoder"
      ]
    },
    {
      "cell_type": "code",
      "execution_count": 2,
      "metadata": {
        "id": "e2kP-i-qUml7"
      },
      "outputs": [],
      "source": [
        "from urllib.request import urlopen\n",
        "from bs4 import BeautifulSoup\n",
        "import ssl\n",
        "import pandas as pd\n",
        "import seaborn as sns\n",
        "import geocoder\n",
        "from datetime import datetime"
      ]
    },
    {
      "cell_type": "code",
      "execution_count": 3,
      "metadata": {
        "colab": {
          "base_uri": "https://localhost:8080/",
          "height": 433
        },
        "id": "zAgSeaB_Us8e",
        "outputId": "9931a4fa-ece7-4932-9cb0-44fe5fc3229c"
      },
      "outputs": [
        {
          "ename": "URLError",
          "evalue": "<urlopen error [WinError 10060] Попытка установить соединение была безуспешной, т.к. от другого компьютера за требуемое время не получен нужный отклик, или было разорвано уже установленное соединение из-за неверного отклика уже подключенного компьютера>",
          "output_type": "error",
          "traceback": [
            "\u001b[1;31m---------------------------------------------------------------------------\u001b[0m",
            "\u001b[1;31mTimeoutError\u001b[0m                              Traceback (most recent call last)",
            "\u001b[1;32mC:\\ProgramData\\Anaconda3\\lib\\urllib\\request.py\u001b[0m in \u001b[0;36mdo_open\u001b[1;34m(self, http_class, req, **http_conn_args)\u001b[0m\n\u001b[0;32m   1349\u001b[0m             \u001b[1;32mtry\u001b[0m\u001b[1;33m:\u001b[0m\u001b[1;33m\u001b[0m\u001b[1;33m\u001b[0m\u001b[0m\n\u001b[1;32m-> 1350\u001b[1;33m                 h.request(req.get_method(), req.selector, req.data, headers,\n\u001b[0m\u001b[0;32m   1351\u001b[0m                           encode_chunked=req.has_header('Transfer-encoding'))\n",
            "\u001b[1;32mC:\\ProgramData\\Anaconda3\\lib\\http\\client.py\u001b[0m in \u001b[0;36mrequest\u001b[1;34m(self, method, url, body, headers, encode_chunked)\u001b[0m\n\u001b[0;32m   1239\u001b[0m         \u001b[1;34m\"\"\"Send a complete request to the server.\"\"\"\u001b[0m\u001b[1;33m\u001b[0m\u001b[1;33m\u001b[0m\u001b[0m\n\u001b[1;32m-> 1240\u001b[1;33m         \u001b[0mself\u001b[0m\u001b[1;33m.\u001b[0m\u001b[0m_send_request\u001b[0m\u001b[1;33m(\u001b[0m\u001b[0mmethod\u001b[0m\u001b[1;33m,\u001b[0m \u001b[0murl\u001b[0m\u001b[1;33m,\u001b[0m \u001b[0mbody\u001b[0m\u001b[1;33m,\u001b[0m \u001b[0mheaders\u001b[0m\u001b[1;33m,\u001b[0m \u001b[0mencode_chunked\u001b[0m\u001b[1;33m)\u001b[0m\u001b[1;33m\u001b[0m\u001b[1;33m\u001b[0m\u001b[0m\n\u001b[0m\u001b[0;32m   1241\u001b[0m \u001b[1;33m\u001b[0m\u001b[0m\n",
            "\u001b[1;32mC:\\ProgramData\\Anaconda3\\lib\\http\\client.py\u001b[0m in \u001b[0;36m_send_request\u001b[1;34m(self, method, url, body, headers, encode_chunked)\u001b[0m\n\u001b[0;32m   1285\u001b[0m             \u001b[0mbody\u001b[0m \u001b[1;33m=\u001b[0m \u001b[0m_encode\u001b[0m\u001b[1;33m(\u001b[0m\u001b[0mbody\u001b[0m\u001b[1;33m,\u001b[0m \u001b[1;34m'body'\u001b[0m\u001b[1;33m)\u001b[0m\u001b[1;33m\u001b[0m\u001b[1;33m\u001b[0m\u001b[0m\n\u001b[1;32m-> 1286\u001b[1;33m         \u001b[0mself\u001b[0m\u001b[1;33m.\u001b[0m\u001b[0mendheaders\u001b[0m\u001b[1;33m(\u001b[0m\u001b[0mbody\u001b[0m\u001b[1;33m,\u001b[0m \u001b[0mencode_chunked\u001b[0m\u001b[1;33m=\u001b[0m\u001b[0mencode_chunked\u001b[0m\u001b[1;33m)\u001b[0m\u001b[1;33m\u001b[0m\u001b[1;33m\u001b[0m\u001b[0m\n\u001b[0m\u001b[0;32m   1287\u001b[0m \u001b[1;33m\u001b[0m\u001b[0m\n",
            "\u001b[1;32mC:\\ProgramData\\Anaconda3\\lib\\http\\client.py\u001b[0m in \u001b[0;36mendheaders\u001b[1;34m(self, message_body, encode_chunked)\u001b[0m\n\u001b[0;32m   1234\u001b[0m             \u001b[1;32mraise\u001b[0m \u001b[0mCannotSendHeader\u001b[0m\u001b[1;33m(\u001b[0m\u001b[1;33m)\u001b[0m\u001b[1;33m\u001b[0m\u001b[1;33m\u001b[0m\u001b[0m\n\u001b[1;32m-> 1235\u001b[1;33m         \u001b[0mself\u001b[0m\u001b[1;33m.\u001b[0m\u001b[0m_send_output\u001b[0m\u001b[1;33m(\u001b[0m\u001b[0mmessage_body\u001b[0m\u001b[1;33m,\u001b[0m \u001b[0mencode_chunked\u001b[0m\u001b[1;33m=\u001b[0m\u001b[0mencode_chunked\u001b[0m\u001b[1;33m)\u001b[0m\u001b[1;33m\u001b[0m\u001b[1;33m\u001b[0m\u001b[0m\n\u001b[0m\u001b[0;32m   1236\u001b[0m \u001b[1;33m\u001b[0m\u001b[0m\n",
            "\u001b[1;32mC:\\ProgramData\\Anaconda3\\lib\\http\\client.py\u001b[0m in \u001b[0;36m_send_output\u001b[1;34m(self, message_body, encode_chunked)\u001b[0m\n\u001b[0;32m   1005\u001b[0m         \u001b[1;32mdel\u001b[0m \u001b[0mself\u001b[0m\u001b[1;33m.\u001b[0m\u001b[0m_buffer\u001b[0m\u001b[1;33m[\u001b[0m\u001b[1;33m:\u001b[0m\u001b[1;33m]\u001b[0m\u001b[1;33m\u001b[0m\u001b[1;33m\u001b[0m\u001b[0m\n\u001b[1;32m-> 1006\u001b[1;33m         \u001b[0mself\u001b[0m\u001b[1;33m.\u001b[0m\u001b[0msend\u001b[0m\u001b[1;33m(\u001b[0m\u001b[0mmsg\u001b[0m\u001b[1;33m)\u001b[0m\u001b[1;33m\u001b[0m\u001b[1;33m\u001b[0m\u001b[0m\n\u001b[0m\u001b[0;32m   1007\u001b[0m \u001b[1;33m\u001b[0m\u001b[0m\n",
            "\u001b[1;32mC:\\ProgramData\\Anaconda3\\lib\\http\\client.py\u001b[0m in \u001b[0;36msend\u001b[1;34m(self, data)\u001b[0m\n\u001b[0;32m    945\u001b[0m             \u001b[1;32mif\u001b[0m \u001b[0mself\u001b[0m\u001b[1;33m.\u001b[0m\u001b[0mauto_open\u001b[0m\u001b[1;33m:\u001b[0m\u001b[1;33m\u001b[0m\u001b[1;33m\u001b[0m\u001b[0m\n\u001b[1;32m--> 946\u001b[1;33m                 \u001b[0mself\u001b[0m\u001b[1;33m.\u001b[0m\u001b[0mconnect\u001b[0m\u001b[1;33m(\u001b[0m\u001b[1;33m)\u001b[0m\u001b[1;33m\u001b[0m\u001b[1;33m\u001b[0m\u001b[0m\n\u001b[0m\u001b[0;32m    947\u001b[0m             \u001b[1;32melse\u001b[0m\u001b[1;33m:\u001b[0m\u001b[1;33m\u001b[0m\u001b[1;33m\u001b[0m\u001b[0m\n",
            "\u001b[1;32mC:\\ProgramData\\Anaconda3\\lib\\http\\client.py\u001b[0m in \u001b[0;36mconnect\u001b[1;34m(self)\u001b[0m\n\u001b[0;32m   1401\u001b[0m \u001b[1;33m\u001b[0m\u001b[0m\n\u001b[1;32m-> 1402\u001b[1;33m             \u001b[0msuper\u001b[0m\u001b[1;33m(\u001b[0m\u001b[1;33m)\u001b[0m\u001b[1;33m.\u001b[0m\u001b[0mconnect\u001b[0m\u001b[1;33m(\u001b[0m\u001b[1;33m)\u001b[0m\u001b[1;33m\u001b[0m\u001b[1;33m\u001b[0m\u001b[0m\n\u001b[0m\u001b[0;32m   1403\u001b[0m \u001b[1;33m\u001b[0m\u001b[0m\n",
            "\u001b[1;32mC:\\ProgramData\\Anaconda3\\lib\\http\\client.py\u001b[0m in \u001b[0;36mconnect\u001b[1;34m(self)\u001b[0m\n\u001b[0;32m    916\u001b[0m         \u001b[1;34m\"\"\"Connect to the host and port specified in __init__.\"\"\"\u001b[0m\u001b[1;33m\u001b[0m\u001b[1;33m\u001b[0m\u001b[0m\n\u001b[1;32m--> 917\u001b[1;33m         self.sock = self._create_connection(\n\u001b[0m\u001b[0;32m    918\u001b[0m             (self.host,self.port), self.timeout, self.source_address)\n",
            "\u001b[1;32mC:\\ProgramData\\Anaconda3\\lib\\socket.py\u001b[0m in \u001b[0;36mcreate_connection\u001b[1;34m(address, timeout, source_address)\u001b[0m\n\u001b[0;32m    807\u001b[0m         \u001b[1;32mtry\u001b[0m\u001b[1;33m:\u001b[0m\u001b[1;33m\u001b[0m\u001b[1;33m\u001b[0m\u001b[0m\n\u001b[1;32m--> 808\u001b[1;33m             \u001b[1;32mraise\u001b[0m \u001b[0merr\u001b[0m\u001b[1;33m\u001b[0m\u001b[1;33m\u001b[0m\u001b[0m\n\u001b[0m\u001b[0;32m    809\u001b[0m         \u001b[1;32mfinally\u001b[0m\u001b[1;33m:\u001b[0m\u001b[1;33m\u001b[0m\u001b[1;33m\u001b[0m\u001b[0m\n",
            "\u001b[1;32mC:\\ProgramData\\Anaconda3\\lib\\socket.py\u001b[0m in \u001b[0;36mcreate_connection\u001b[1;34m(address, timeout, source_address)\u001b[0m\n\u001b[0;32m    795\u001b[0m                 \u001b[0msock\u001b[0m\u001b[1;33m.\u001b[0m\u001b[0mbind\u001b[0m\u001b[1;33m(\u001b[0m\u001b[0msource_address\u001b[0m\u001b[1;33m)\u001b[0m\u001b[1;33m\u001b[0m\u001b[1;33m\u001b[0m\u001b[0m\n\u001b[1;32m--> 796\u001b[1;33m             \u001b[0msock\u001b[0m\u001b[1;33m.\u001b[0m\u001b[0mconnect\u001b[0m\u001b[1;33m(\u001b[0m\u001b[0msa\u001b[0m\u001b[1;33m)\u001b[0m\u001b[1;33m\u001b[0m\u001b[1;33m\u001b[0m\u001b[0m\n\u001b[0m\u001b[0;32m    797\u001b[0m             \u001b[1;31m# Break explicitly a reference cycle\u001b[0m\u001b[1;33m\u001b[0m\u001b[1;33m\u001b[0m\u001b[1;33m\u001b[0m\u001b[0m\n",
            "\u001b[1;31mTimeoutError\u001b[0m: [WinError 10060] Попытка установить соединение была безуспешной, т.к. от другого компьютера за требуемое время не получен нужный отклик, или было разорвано уже установленное соединение из-за неверного отклика уже подключенного компьютера",
            "\nDuring handling of the above exception, another exception occurred:\n",
            "\u001b[1;31mURLError\u001b[0m                                  Traceback (most recent call last)",
            "\u001b[1;32m<ipython-input-3-1ba60babbdc0>\u001b[0m in \u001b[0;36m<module>\u001b[1;34m\u001b[0m\n\u001b[0;32m      1\u001b[0m \u001b[0mcontext\u001b[0m \u001b[1;33m=\u001b[0m \u001b[0mssl\u001b[0m\u001b[1;33m.\u001b[0m\u001b[0m_create_unverified_context\u001b[0m\u001b[1;33m(\u001b[0m\u001b[1;33m)\u001b[0m\u001b[1;33m\u001b[0m\u001b[1;33m\u001b[0m\u001b[0m\n\u001b[0;32m      2\u001b[0m \u001b[0murl\u001b[0m \u001b[1;33m=\u001b[0m \u001b[1;34m\"https://www.goszakup.gov.kz/ru/search/announce?count_record=100&page=\"\u001b[0m \u001b[1;33m+\u001b[0m \u001b[0mstr\u001b[0m\u001b[1;33m(\u001b[0m\u001b[1;36m1\u001b[0m\u001b[1;33m)\u001b[0m\u001b[1;33m\u001b[0m\u001b[1;33m\u001b[0m\u001b[0m\n\u001b[1;32m----> 3\u001b[1;33m \u001b[0mres\u001b[0m \u001b[1;33m=\u001b[0m \u001b[0murlopen\u001b[0m\u001b[1;33m(\u001b[0m\u001b[0murl\u001b[0m\u001b[1;33m,\u001b[0m \u001b[0mcontext\u001b[0m\u001b[1;33m=\u001b[0m\u001b[0mcontext\u001b[0m\u001b[1;33m)\u001b[0m\u001b[1;33m\u001b[0m\u001b[1;33m\u001b[0m\u001b[0m\n\u001b[0m\u001b[0;32m      4\u001b[0m \u001b[0msoup\u001b[0m \u001b[1;33m=\u001b[0m \u001b[0mBeautifulSoup\u001b[0m\u001b[1;33m(\u001b[0m\u001b[0mres\u001b[0m\u001b[1;33m,\u001b[0m \u001b[1;34m\"html.parser\"\u001b[0m\u001b[1;33m)\u001b[0m\u001b[1;33m\u001b[0m\u001b[1;33m\u001b[0m\u001b[0m\n",
            "\u001b[1;32mC:\\ProgramData\\Anaconda3\\lib\\urllib\\request.py\u001b[0m in \u001b[0;36murlopen\u001b[1;34m(url, data, timeout, cafile, capath, cadefault, context)\u001b[0m\n\u001b[0;32m    220\u001b[0m     \u001b[1;32melse\u001b[0m\u001b[1;33m:\u001b[0m\u001b[1;33m\u001b[0m\u001b[1;33m\u001b[0m\u001b[0m\n\u001b[0;32m    221\u001b[0m         \u001b[0mopener\u001b[0m \u001b[1;33m=\u001b[0m \u001b[0m_opener\u001b[0m\u001b[1;33m\u001b[0m\u001b[1;33m\u001b[0m\u001b[0m\n\u001b[1;32m--> 222\u001b[1;33m     \u001b[1;32mreturn\u001b[0m \u001b[0mopener\u001b[0m\u001b[1;33m.\u001b[0m\u001b[0mopen\u001b[0m\u001b[1;33m(\u001b[0m\u001b[0murl\u001b[0m\u001b[1;33m,\u001b[0m \u001b[0mdata\u001b[0m\u001b[1;33m,\u001b[0m \u001b[0mtimeout\u001b[0m\u001b[1;33m)\u001b[0m\u001b[1;33m\u001b[0m\u001b[1;33m\u001b[0m\u001b[0m\n\u001b[0m\u001b[0;32m    223\u001b[0m \u001b[1;33m\u001b[0m\u001b[0m\n\u001b[0;32m    224\u001b[0m \u001b[1;32mdef\u001b[0m \u001b[0minstall_opener\u001b[0m\u001b[1;33m(\u001b[0m\u001b[0mopener\u001b[0m\u001b[1;33m)\u001b[0m\u001b[1;33m:\u001b[0m\u001b[1;33m\u001b[0m\u001b[1;33m\u001b[0m\u001b[0m\n",
            "\u001b[1;32mC:\\ProgramData\\Anaconda3\\lib\\urllib\\request.py\u001b[0m in \u001b[0;36mopen\u001b[1;34m(self, fullurl, data, timeout)\u001b[0m\n\u001b[0;32m    523\u001b[0m \u001b[1;33m\u001b[0m\u001b[0m\n\u001b[0;32m    524\u001b[0m         \u001b[0msys\u001b[0m\u001b[1;33m.\u001b[0m\u001b[0maudit\u001b[0m\u001b[1;33m(\u001b[0m\u001b[1;34m'urllib.Request'\u001b[0m\u001b[1;33m,\u001b[0m \u001b[0mreq\u001b[0m\u001b[1;33m.\u001b[0m\u001b[0mfull_url\u001b[0m\u001b[1;33m,\u001b[0m \u001b[0mreq\u001b[0m\u001b[1;33m.\u001b[0m\u001b[0mdata\u001b[0m\u001b[1;33m,\u001b[0m \u001b[0mreq\u001b[0m\u001b[1;33m.\u001b[0m\u001b[0mheaders\u001b[0m\u001b[1;33m,\u001b[0m \u001b[0mreq\u001b[0m\u001b[1;33m.\u001b[0m\u001b[0mget_method\u001b[0m\u001b[1;33m(\u001b[0m\u001b[1;33m)\u001b[0m\u001b[1;33m)\u001b[0m\u001b[1;33m\u001b[0m\u001b[1;33m\u001b[0m\u001b[0m\n\u001b[1;32m--> 525\u001b[1;33m         \u001b[0mresponse\u001b[0m \u001b[1;33m=\u001b[0m \u001b[0mself\u001b[0m\u001b[1;33m.\u001b[0m\u001b[0m_open\u001b[0m\u001b[1;33m(\u001b[0m\u001b[0mreq\u001b[0m\u001b[1;33m,\u001b[0m \u001b[0mdata\u001b[0m\u001b[1;33m)\u001b[0m\u001b[1;33m\u001b[0m\u001b[1;33m\u001b[0m\u001b[0m\n\u001b[0m\u001b[0;32m    526\u001b[0m \u001b[1;33m\u001b[0m\u001b[0m\n\u001b[0;32m    527\u001b[0m         \u001b[1;31m# post-process response\u001b[0m\u001b[1;33m\u001b[0m\u001b[1;33m\u001b[0m\u001b[1;33m\u001b[0m\u001b[0m\n",
            "\u001b[1;32mC:\\ProgramData\\Anaconda3\\lib\\urllib\\request.py\u001b[0m in \u001b[0;36m_open\u001b[1;34m(self, req, data)\u001b[0m\n\u001b[0;32m    540\u001b[0m \u001b[1;33m\u001b[0m\u001b[0m\n\u001b[0;32m    541\u001b[0m         \u001b[0mprotocol\u001b[0m \u001b[1;33m=\u001b[0m \u001b[0mreq\u001b[0m\u001b[1;33m.\u001b[0m\u001b[0mtype\u001b[0m\u001b[1;33m\u001b[0m\u001b[1;33m\u001b[0m\u001b[0m\n\u001b[1;32m--> 542\u001b[1;33m         result = self._call_chain(self.handle_open, protocol, protocol +\n\u001b[0m\u001b[0;32m    543\u001b[0m                                   '_open', req)\n\u001b[0;32m    544\u001b[0m         \u001b[1;32mif\u001b[0m \u001b[0mresult\u001b[0m\u001b[1;33m:\u001b[0m\u001b[1;33m\u001b[0m\u001b[1;33m\u001b[0m\u001b[0m\n",
            "\u001b[1;32mC:\\ProgramData\\Anaconda3\\lib\\urllib\\request.py\u001b[0m in \u001b[0;36m_call_chain\u001b[1;34m(self, chain, kind, meth_name, *args)\u001b[0m\n\u001b[0;32m    500\u001b[0m         \u001b[1;32mfor\u001b[0m \u001b[0mhandler\u001b[0m \u001b[1;32min\u001b[0m \u001b[0mhandlers\u001b[0m\u001b[1;33m:\u001b[0m\u001b[1;33m\u001b[0m\u001b[1;33m\u001b[0m\u001b[0m\n\u001b[0;32m    501\u001b[0m             \u001b[0mfunc\u001b[0m \u001b[1;33m=\u001b[0m \u001b[0mgetattr\u001b[0m\u001b[1;33m(\u001b[0m\u001b[0mhandler\u001b[0m\u001b[1;33m,\u001b[0m \u001b[0mmeth_name\u001b[0m\u001b[1;33m)\u001b[0m\u001b[1;33m\u001b[0m\u001b[1;33m\u001b[0m\u001b[0m\n\u001b[1;32m--> 502\u001b[1;33m             \u001b[0mresult\u001b[0m \u001b[1;33m=\u001b[0m \u001b[0mfunc\u001b[0m\u001b[1;33m(\u001b[0m\u001b[1;33m*\u001b[0m\u001b[0margs\u001b[0m\u001b[1;33m)\u001b[0m\u001b[1;33m\u001b[0m\u001b[1;33m\u001b[0m\u001b[0m\n\u001b[0m\u001b[0;32m    503\u001b[0m             \u001b[1;32mif\u001b[0m \u001b[0mresult\u001b[0m \u001b[1;32mis\u001b[0m \u001b[1;32mnot\u001b[0m \u001b[1;32mNone\u001b[0m\u001b[1;33m:\u001b[0m\u001b[1;33m\u001b[0m\u001b[1;33m\u001b[0m\u001b[0m\n\u001b[0;32m    504\u001b[0m                 \u001b[1;32mreturn\u001b[0m \u001b[0mresult\u001b[0m\u001b[1;33m\u001b[0m\u001b[1;33m\u001b[0m\u001b[0m\n",
            "\u001b[1;32mC:\\ProgramData\\Anaconda3\\lib\\urllib\\request.py\u001b[0m in \u001b[0;36mhttps_open\u001b[1;34m(self, req)\u001b[0m\n\u001b[0;32m   1391\u001b[0m \u001b[1;33m\u001b[0m\u001b[0m\n\u001b[0;32m   1392\u001b[0m         \u001b[1;32mdef\u001b[0m \u001b[0mhttps_open\u001b[0m\u001b[1;33m(\u001b[0m\u001b[0mself\u001b[0m\u001b[1;33m,\u001b[0m \u001b[0mreq\u001b[0m\u001b[1;33m)\u001b[0m\u001b[1;33m:\u001b[0m\u001b[1;33m\u001b[0m\u001b[1;33m\u001b[0m\u001b[0m\n\u001b[1;32m-> 1393\u001b[1;33m             return self.do_open(http.client.HTTPSConnection, req,\n\u001b[0m\u001b[0;32m   1394\u001b[0m                 context=self._context, check_hostname=self._check_hostname)\n\u001b[0;32m   1395\u001b[0m \u001b[1;33m\u001b[0m\u001b[0m\n",
            "\u001b[1;32mC:\\ProgramData\\Anaconda3\\lib\\urllib\\request.py\u001b[0m in \u001b[0;36mdo_open\u001b[1;34m(self, http_class, req, **http_conn_args)\u001b[0m\n\u001b[0;32m   1351\u001b[0m                           encode_chunked=req.has_header('Transfer-encoding'))\n\u001b[0;32m   1352\u001b[0m             \u001b[1;32mexcept\u001b[0m \u001b[0mOSError\u001b[0m \u001b[1;32mas\u001b[0m \u001b[0merr\u001b[0m\u001b[1;33m:\u001b[0m \u001b[1;31m# timeout error\u001b[0m\u001b[1;33m\u001b[0m\u001b[1;33m\u001b[0m\u001b[0m\n\u001b[1;32m-> 1353\u001b[1;33m                 \u001b[1;32mraise\u001b[0m \u001b[0mURLError\u001b[0m\u001b[1;33m(\u001b[0m\u001b[0merr\u001b[0m\u001b[1;33m)\u001b[0m\u001b[1;33m\u001b[0m\u001b[1;33m\u001b[0m\u001b[0m\n\u001b[0m\u001b[0;32m   1354\u001b[0m             \u001b[0mr\u001b[0m \u001b[1;33m=\u001b[0m \u001b[0mh\u001b[0m\u001b[1;33m.\u001b[0m\u001b[0mgetresponse\u001b[0m\u001b[1;33m(\u001b[0m\u001b[1;33m)\u001b[0m\u001b[1;33m\u001b[0m\u001b[1;33m\u001b[0m\u001b[0m\n\u001b[0;32m   1355\u001b[0m         \u001b[1;32mexcept\u001b[0m\u001b[1;33m:\u001b[0m\u001b[1;33m\u001b[0m\u001b[1;33m\u001b[0m\u001b[0m\n",
            "\u001b[1;31mURLError\u001b[0m: <urlopen error [WinError 10060] Попытка установить соединение была безуспешной, т.к. от другого компьютера за требуемое время не получен нужный отклик, или было разорвано уже установленное соединение из-за неверного отклика уже подключенного компьютера>"
          ]
        }
      ],
      "source": [
        "context = ssl._create_unverified_context()\n",
        "url = \"https://www.goszakup.gov.kz/ru/search/announce?count_record=100&page=\" + str(1)\n",
        "res = urlopen(url, context=context)\n",
        "soup = BeautifulSoup(res, \"html.parser\")"
      ]
    },
    {
      "cell_type": "code",
      "execution_count": null,
      "metadata": {
        "id": "Sgcj4pWxVI-P"
      },
      "outputs": [],
      "source": [
        "table = soup.find(\"table\", id=\"search-result\")\n",
        "rows = table.findAll('tr')"
      ]
    },
    {
      "cell_type": "code",
      "execution_count": null,
      "metadata": {
        "id": "H1fwQ3rggNic"
      },
      "outputs": [],
      "source": [
        "dataset = {}\n",
        "for i in range(1, len(rows)):\n",
        "  cols = rows[i].find_all('td')\n",
        "  dataset[i] = {}\n",
        "  dataset[i][\"num\"] = cols[0].find_all('strong')[0].text\n",
        "  dataset[i][\"name\"] = cols[1].find('a').get_text().strip()\n",
        "  dataset[i][\"link\"] = cols[1].find('a').get('href')\n",
        "  dataset[i][\"organizer\"] = cols[1].find('small').get_text().strip()\n",
        "  dataset[i][\"status\"] =  cols[2].text.strip()\n",
        "  dataset[i][\"startdate\"] = datetime.strptime(cols[3].get_text(separator = \" \"), '%Y-%m-%d %H:%M:%S')\n",
        "  dataset[i][\"finaldate\"] = datetime.strptime(cols[4].get_text(separator = \" \"), '%Y-%m-%d %H:%M:%S')\n",
        "  dataset[i][\"price\"] = float(cols[5].find_all('strong')[0].text.replace(' ','').replace(',','.'))"
      ]
    },
    {
      "cell_type": "code",
      "execution_count": null,
      "metadata": {
        "id": "uZuKbNBLgxMJ"
      },
      "outputs": [],
      "source": [
        "zakupki = pd.DataFrame.from_dict(dataset, orient='index')"
      ]
    },
    {
      "cell_type": "code",
      "execution_count": null,
      "metadata": {
        "colab": {
          "base_uri": "https://localhost:8080/",
          "height": 337
        },
        "id": "HS2MJkYeg0sI",
        "outputId": "241fe496-7246-479d-be06-0ef7b1f3ace8"
      },
      "outputs": [
        {
          "data": {
            "text/html": [
              "\n",
              "  <div id=\"df-22ebee93-79c1-45f0-ad56-c524bb87ac65\">\n",
              "    <div class=\"colab-df-container\">\n",
              "      <div>\n",
              "<style scoped>\n",
              "    .dataframe tbody tr th:only-of-type {\n",
              "        vertical-align: middle;\n",
              "    }\n",
              "\n",
              "    .dataframe tbody tr th {\n",
              "        vertical-align: top;\n",
              "    }\n",
              "\n",
              "    .dataframe thead th {\n",
              "        text-align: right;\n",
              "    }\n",
              "</style>\n",
              "<table border=\"1\" class=\"dataframe\">\n",
              "  <thead>\n",
              "    <tr style=\"text-align: right;\">\n",
              "      <th></th>\n",
              "      <th>num</th>\n",
              "      <th>name</th>\n",
              "      <th>link</th>\n",
              "      <th>organizer</th>\n",
              "      <th>status</th>\n",
              "      <th>startdate</th>\n",
              "      <th>finaldate</th>\n",
              "      <th>price</th>\n",
              "    </tr>\n",
              "  </thead>\n",
              "  <tbody>\n",
              "    <tr>\n",
              "      <th>1</th>\n",
              "      <td>7575825-1</td>\n",
              "      <td>Средства  моющее</td>\n",
              "      <td>/ru/announce/index/7575825</td>\n",
              "      <td>Организатор: Коммунальное государственное казе...</td>\n",
              "      <td>Запрос ценовых предложений</td>\n",
              "      <td>2022-05-06 15:00:00</td>\n",
              "      <td>2022-05-17 15:05:32</td>\n",
              "      <td>23760.00</td>\n",
              "    </tr>\n",
              "    <tr>\n",
              "      <th>2</th>\n",
              "      <td>7575818-1</td>\n",
              "      <td>Изготовление и монтаж Ролл-штор</td>\n",
              "      <td>/ru/announce/index/7575818</td>\n",
              "      <td>Организатор: Коммунальное государственное учре...</td>\n",
              "      <td>Запрос ценовых предложений</td>\n",
              "      <td>2022-05-06 15:00:00</td>\n",
              "      <td>2022-05-17 15:00:00</td>\n",
              "      <td>366709.19</td>\n",
              "    </tr>\n",
              "    <tr>\n",
              "      <th>3</th>\n",
              "      <td>7575812-1</td>\n",
              "      <td>Оргтехника</td>\n",
              "      <td>/ru/announce/index/7575812</td>\n",
              "      <td>Организатор: Коммунальное государственное пред...</td>\n",
              "      <td>Из одного источника по несостоявшимся закупкам</td>\n",
              "      <td>2022-05-06 14:55:08</td>\n",
              "      <td>2022-05-11 18:00:00</td>\n",
              "      <td>157476.99</td>\n",
              "    </tr>\n",
              "    <tr>\n",
              "      <th>4</th>\n",
              "      <td>7575810-1</td>\n",
              "      <td>Приобретение хозяйственных товаров</td>\n",
              "      <td>/ru/announce/index/7575810</td>\n",
              "      <td>Организатор: Республиканское государственное у...</td>\n",
              "      <td>Запрос ценовых предложений</td>\n",
              "      <td>2022-05-11 09:00:00</td>\n",
              "      <td>2022-05-18 09:00:00</td>\n",
              "      <td>22500.00</td>\n",
              "    </tr>\n",
              "    <tr>\n",
              "      <th>5</th>\n",
              "      <td>7575809-1</td>\n",
              "      <td>Приобретение хозяйственных товаров</td>\n",
              "      <td>/ru/announce/index/7575809</td>\n",
              "      <td>Организатор: Коммунальное государственное учре...</td>\n",
              "      <td>Из одного источника по несостоявшимся закупкам</td>\n",
              "      <td>2022-05-06 14:55:08</td>\n",
              "      <td>2022-05-11 18:00:00</td>\n",
              "      <td>30000.00</td>\n",
              "    </tr>\n",
              "  </tbody>\n",
              "</table>\n",
              "</div>\n",
              "      <button class=\"colab-df-convert\" onclick=\"convertToInteractive('df-22ebee93-79c1-45f0-ad56-c524bb87ac65')\"\n",
              "              title=\"Convert this dataframe to an interactive table.\"\n",
              "              style=\"display:none;\">\n",
              "        \n",
              "  <svg xmlns=\"http://www.w3.org/2000/svg\" height=\"24px\"viewBox=\"0 0 24 24\"\n",
              "       width=\"24px\">\n",
              "    <path d=\"M0 0h24v24H0V0z\" fill=\"none\"/>\n",
              "    <path d=\"M18.56 5.44l.94 2.06.94-2.06 2.06-.94-2.06-.94-.94-2.06-.94 2.06-2.06.94zm-11 1L8.5 8.5l.94-2.06 2.06-.94-2.06-.94L8.5 2.5l-.94 2.06-2.06.94zm10 10l.94 2.06.94-2.06 2.06-.94-2.06-.94-.94-2.06-.94 2.06-2.06.94z\"/><path d=\"M17.41 7.96l-1.37-1.37c-.4-.4-.92-.59-1.43-.59-.52 0-1.04.2-1.43.59L10.3 9.45l-7.72 7.72c-.78.78-.78 2.05 0 2.83L4 21.41c.39.39.9.59 1.41.59.51 0 1.02-.2 1.41-.59l7.78-7.78 2.81-2.81c.8-.78.8-2.07 0-2.86zM5.41 20L4 18.59l7.72-7.72 1.47 1.35L5.41 20z\"/>\n",
              "  </svg>\n",
              "      </button>\n",
              "      \n",
              "  <style>\n",
              "    .colab-df-container {\n",
              "      display:flex;\n",
              "      flex-wrap:wrap;\n",
              "      gap: 12px;\n",
              "    }\n",
              "\n",
              "    .colab-df-convert {\n",
              "      background-color: #E8F0FE;\n",
              "      border: none;\n",
              "      border-radius: 50%;\n",
              "      cursor: pointer;\n",
              "      display: none;\n",
              "      fill: #1967D2;\n",
              "      height: 32px;\n",
              "      padding: 0 0 0 0;\n",
              "      width: 32px;\n",
              "    }\n",
              "\n",
              "    .colab-df-convert:hover {\n",
              "      background-color: #E2EBFA;\n",
              "      box-shadow: 0px 1px 2px rgba(60, 64, 67, 0.3), 0px 1px 3px 1px rgba(60, 64, 67, 0.15);\n",
              "      fill: #174EA6;\n",
              "    }\n",
              "\n",
              "    [theme=dark] .colab-df-convert {\n",
              "      background-color: #3B4455;\n",
              "      fill: #D2E3FC;\n",
              "    }\n",
              "\n",
              "    [theme=dark] .colab-df-convert:hover {\n",
              "      background-color: #434B5C;\n",
              "      box-shadow: 0px 1px 3px 1px rgba(0, 0, 0, 0.15);\n",
              "      filter: drop-shadow(0px 1px 2px rgba(0, 0, 0, 0.3));\n",
              "      fill: #FFFFFF;\n",
              "    }\n",
              "  </style>\n",
              "\n",
              "      <script>\n",
              "        const buttonEl =\n",
              "          document.querySelector('#df-22ebee93-79c1-45f0-ad56-c524bb87ac65 button.colab-df-convert');\n",
              "        buttonEl.style.display =\n",
              "          google.colab.kernel.accessAllowed ? 'block' : 'none';\n",
              "\n",
              "        async function convertToInteractive(key) {\n",
              "          const element = document.querySelector('#df-22ebee93-79c1-45f0-ad56-c524bb87ac65');\n",
              "          const dataTable =\n",
              "            await google.colab.kernel.invokeFunction('convertToInteractive',\n",
              "                                                     [key], {});\n",
              "          if (!dataTable) return;\n",
              "\n",
              "          const docLinkHtml = 'Like what you see? Visit the ' +\n",
              "            '<a target=\"_blank\" href=https://colab.research.google.com/notebooks/data_table.ipynb>data table notebook</a>'\n",
              "            + ' to learn more about interactive tables.';\n",
              "          element.innerHTML = '';\n",
              "          dataTable['output_type'] = 'display_data';\n",
              "          await google.colab.output.renderOutput(dataTable, element);\n",
              "          const docLink = document.createElement('div');\n",
              "          docLink.innerHTML = docLinkHtml;\n",
              "          element.appendChild(docLink);\n",
              "        }\n",
              "      </script>\n",
              "    </div>\n",
              "  </div>\n",
              "  "
            ],
            "text/plain": [
              "         num                                name                        link  \\\n",
              "1  7575825-1                    Средства  моющее  /ru/announce/index/7575825   \n",
              "2  7575818-1     Изготовление и монтаж Ролл-штор  /ru/announce/index/7575818   \n",
              "3  7575812-1                          Оргтехника  /ru/announce/index/7575812   \n",
              "4  7575810-1  Приобретение хозяйственных товаров  /ru/announce/index/7575810   \n",
              "5  7575809-1  Приобретение хозяйственных товаров  /ru/announce/index/7575809   \n",
              "\n",
              "                                           organizer  \\\n",
              "1  Организатор: Коммунальное государственное казе...   \n",
              "2  Организатор: Коммунальное государственное учре...   \n",
              "3  Организатор: Коммунальное государственное пред...   \n",
              "4  Организатор: Республиканское государственное у...   \n",
              "5  Организатор: Коммунальное государственное учре...   \n",
              "\n",
              "                                           status           startdate  \\\n",
              "1                      Запрос ценовых предложений 2022-05-06 15:00:00   \n",
              "2                      Запрос ценовых предложений 2022-05-06 15:00:00   \n",
              "3  Из одного источника по несостоявшимся закупкам 2022-05-06 14:55:08   \n",
              "4                      Запрос ценовых предложений 2022-05-11 09:00:00   \n",
              "5  Из одного источника по несостоявшимся закупкам 2022-05-06 14:55:08   \n",
              "\n",
              "            finaldate      price  \n",
              "1 2022-05-17 15:05:32   23760.00  \n",
              "2 2022-05-17 15:00:00  366709.19  \n",
              "3 2022-05-11 18:00:00  157476.99  \n",
              "4 2022-05-18 09:00:00   22500.00  \n",
              "5 2022-05-11 18:00:00   30000.00  "
            ]
          },
          "execution_count": 70,
          "metadata": {},
          "output_type": "execute_result"
        }
      ],
      "source": [
        "zakupki.head()"
      ]
    },
    {
      "cell_type": "code",
      "execution_count": null,
      "metadata": {
        "colab": {
          "base_uri": "https://localhost:8080/"
        },
        "id": "rlt9xq4Vi6F5",
        "outputId": "4daf37bf-7e0f-4956-e062-e4a8bc437909"
      },
      "outputs": [
        {
          "name": "stdout",
          "output_type": "stream",
          "text": [
            "<class 'pandas.core.frame.DataFrame'>\n",
            "Int64Index: 100 entries, 1 to 100\n",
            "Data columns (total 8 columns):\n",
            " #   Column     Non-Null Count  Dtype         \n",
            "---  ------     --------------  -----         \n",
            " 0   num        100 non-null    object        \n",
            " 1   name       100 non-null    object        \n",
            " 2   link       100 non-null    object        \n",
            " 3   organizer  100 non-null    object        \n",
            " 4   status     100 non-null    object        \n",
            " 5   startdate  100 non-null    datetime64[ns]\n",
            " 6   finaldate  100 non-null    datetime64[ns]\n",
            " 7   price      100 non-null    float64       \n",
            "dtypes: datetime64[ns](2), float64(1), object(5)\n",
            "memory usage: 7.0+ KB\n"
          ]
        }
      ],
      "source": [
        "zakupki.info()"
      ]
    },
    {
      "cell_type": "code",
      "execution_count": null,
      "metadata": {
        "colab": {
          "base_uri": "https://localhost:8080/",
          "height": 385
        },
        "id": "5tv_NCdUi9cj",
        "outputId": "2e144bbc-dd3e-4763-e706-431f20837e5d"
      },
      "outputs": [
        {
          "data": {
            "image/png": "[encoded data removed]",
            "text/plain": [
              "<Figure size 864x432 with 1 Axes>"
            ]
          },
          "metadata": {
            "needs_background": "light"
          },
          "output_type": "display_data"
        }
      ],
      "source": [
        "import matplotlib.pyplot as plt\n",
        "\n",
        "# Plot regression against actual data\n",
        "plt.figure(figsize=(12, 6))\n",
        "plt.plot(range(100), zakupki['price'], 'o') \n",
        "\n",
        "plt.show()"
      ]
    },
    {
      "cell_type": "code",
      "execution_count": null,
      "metadata": {
        "id": "-nYcou3Qs1Ik"
      },
      "outputs": [],
      "source": [
        "dataset = {}\n",
        "for j in range(1, 251):\n",
        "  try:\n",
        "    context = ssl._create_unverified_context()\n",
        "    url = \"https://www.goszakup.gov.kz/ru/search/announce?count_record=2000&page=\" + str(j)\n",
        "    res = urlopen(url, context=context)\n",
        "    soup = BeautifulSoup(res, \"html.parser\")\n",
        "    table = soup.find(\"table\", id=\"search-result\")\n",
        "    rows = table.findAll('tr')\n",
        "    n = j*2000\n",
        "    for i in range(1, len(rows)):\n",
        "      cols = rows[i].find_all('td')\n",
        "      dataset[i + n] = {}\n",
        "      dataset[i + n][\"num\"] = cols[0].find_all('strong')[0].text\n",
        "      dataset[i + n][\"name\"] = cols[1].find('a').get_text().strip()\n",
        "      dataset[i + n][\"link\"] = cols[1].find('a').get('href')\n",
        "      dataset[i + n][\"organizer\"] = cols[1].find('small').get_text().strip()\n",
        "      dataset[i + n][\"status\"] =  cols[2].text.strip()\n",
        "      dataset[i + n][\"startdate\"] = datetime.strptime(cols[3].get_text(separator = \" \"), '%Y-%m-%d %H:%M:%S')\n",
        "      dataset[i + n][\"finaldate\"] = datetime.strptime(cols[4].get_text(separator = \" \"), '%Y-%m-%d %H:%M:%S')\n",
        "      dataset[i + n][\"price\"] = float(cols[5].find_all('strong')[0].text.replace(' ','').replace(',','.'))\n",
        "    print(\"Page \", j, \" done\")\n",
        "  except:\n",
        "    print(\"An exception occurred\")"
      ]
    },
    {
      "cell_type": "code",
      "execution_count": null,
      "metadata": {
        "id": "1L0h8GOfqVGt"
      },
      "outputs": [],
      "source": [
        "zakupki = pd.DataFrame.from_dict(dataset, orient='index')"
      ]
    },
    {
      "cell_type": "code",
      "execution_count": null,
      "metadata": {
        "id": "xOTigUic4aEw"
      },
      "outputs": [],
      "source": [
        "zakupki.drop_duplicates(keep=False,inplace=True)"
      ]
    },
    {
      "cell_type": "code",
      "execution_count": null,
      "metadata": {
        "colab": {
          "base_uri": "https://localhost:8080/"
        },
        "id": "WfszUCq04cbh",
        "outputId": "4640420d-34f6-4002-f542-e8b8cd4639b9"
      },
      "outputs": [
        {
          "name": "stdout",
          "output_type": "stream",
          "text": [
            "<class 'pandas.core.frame.DataFrame'>\n",
            "Int64Index: 500 entries, 1 to 500\n",
            "Data columns (total 8 columns):\n",
            " #   Column     Non-Null Count  Dtype         \n",
            "---  ------     --------------  -----         \n",
            " 0   num        500 non-null    object        \n",
            " 1   name       500 non-null    object        \n",
            " 2   link       500 non-null    object        \n",
            " 3   organizer  500 non-null    object        \n",
            " 4   status     500 non-null    object        \n",
            " 5   startdate  500 non-null    datetime64[ns]\n",
            " 6   finaldate  500 non-null    datetime64[ns]\n",
            " 7   price      500 non-null    float64       \n",
            "dtypes: datetime64[ns](2), float64(1), object(5)\n",
            "memory usage: 35.2+ KB\n"
          ]
        }
      ],
      "source": [
        "zakupki.info()"
      ]
    },
    {
      "cell_type": "code",
      "execution_count": null,
      "metadata": {
        "id": "NgJ65PWNd6ac"
      },
      "outputs": [],
      "source": [
        "zakupki[\"address\"] = None"
      ]
    },
    {
      "cell_type": "code",
      "execution_count": null,
      "metadata": {
        "colab": {
          "base_uri": "https://localhost:8080/"
        },
        "id": "wxHrNN4_KCnb",
        "outputId": "ec228d0c-7033-4927-8018-af6ffb76b100"
      },
      "outputs": [
        {
          "name": "stdout",
          "output_type": "stream",
          "text": [
            "85 86 87 88 89 90 91 92 93 94 95 96 97 98 99 100 "
          ]
        }
      ],
      "source": [
        "adddata = {}\n",
        "for i, row in zakupki.iterrows():\n",
        "  if i<85:\n",
        "    continue\n",
        "  url = \"https://www.goszakup.gov.kz\" + row[\"link\"]\n",
        "  res = urlopen(url, context=context)\n",
        "  soup = BeautifulSoup(res, \"html.parser\")\n",
        "  table = soup.find(\"table\", {\"class\":\"table table-bordered table-hover table-striped\"})\n",
        "  rows = table.findAll('tr')\n",
        "  for j in range(len(rows)):\n",
        "    if \"адрес организатора\" in rows[j].find('th').text:\n",
        "      zakupki.at[i,\"address\"] = rows[j].find('td').text\n",
        "      break\n",
        "  print(i, end=\" \")"
      ]
    },
    {
      "cell_type": "code",
      "execution_count": null,
      "metadata": {
        "colab": {
          "base_uri": "https://localhost:8080/",
          "height": 424
        },
        "id": "V93FHjSzW8I5",
        "outputId": "af2d286c-e84e-40fa-c7ff-395a8f488138"
      },
      "outputs": [
        {
          "data": {
            "text/html": [
              "\n",
              "  <div id=\"df-6fc5b8d8-da5a-4d6c-b98f-55695c096485\">\n",
              "    <div class=\"colab-df-container\">\n",
              "      <div>\n",
              "<style scoped>\n",
              "    .dataframe tbody tr th:only-of-type {\n",
              "        vertical-align: middle;\n",
              "    }\n",
              "\n",
              "    .dataframe tbody tr th {\n",
              "        vertical-align: top;\n",
              "    }\n",
              "\n",
              "    .dataframe thead th {\n",
              "        text-align: right;\n",
              "    }\n",
              "</style>\n",
              "<table border=\"1\" class=\"dataframe\">\n",
              "  <thead>\n",
              "    <tr style=\"text-align: right;\">\n",
              "      <th></th>\n",
              "      <th>num</th>\n",
              "      <th>name</th>\n",
              "      <th>link</th>\n",
              "      <th>organizer</th>\n",
              "      <th>status</th>\n",
              "      <th>startdate</th>\n",
              "      <th>finaldate</th>\n",
              "      <th>price</th>\n",
              "      <th>address</th>\n",
              "    </tr>\n",
              "  </thead>\n",
              "  <tbody>\n",
              "    <tr>\n",
              "      <th>1</th>\n",
              "      <td>7575151-1</td>\n",
              "      <td>ведро и швабра, тряпка для удаления пыли</td>\n",
              "      <td>/ru/announce/index/7575151</td>\n",
              "      <td>Организатор: Коммунальное государственное учре...</td>\n",
              "      <td>Запрос ценовых предложений</td>\n",
              "      <td>2022-05-06 14:39:07</td>\n",
              "      <td>2022-05-17 15:39:14</td>\n",
              "      <td>23316.00</td>\n",
              "      <td>233620100, 060100, Казахстан, г. КУЛЬСАРЫ, ул....</td>\n",
              "    </tr>\n",
              "    <tr>\n",
              "      <th>2</th>\n",
              "      <td>7575150-1</td>\n",
              "      <td>Приобретение веник - совок для уборки</td>\n",
              "      <td>/ru/announce/index/7575150</td>\n",
              "      <td>Организатор: Республиканское государственное у...</td>\n",
              "      <td>Из одного источника по несостоявшимся закупкам</td>\n",
              "      <td>2022-05-06 13:39:13</td>\n",
              "      <td>2022-05-11 18:00:00</td>\n",
              "      <td>10714.28</td>\n",
              "      <td>632810000, 071412, Казахстан, г. Семей, ул. Ст...</td>\n",
              "    </tr>\n",
              "    <tr>\n",
              "      <th>3</th>\n",
              "      <td>7575149-1</td>\n",
              "      <td>Приобретение хозяйственных товаров</td>\n",
              "      <td>/ru/announce/index/7575149</td>\n",
              "      <td>Организатор: Коммунальное государственное учре...</td>\n",
              "      <td>Из одного источника по несостоявшимся закупкам</td>\n",
              "      <td>2022-05-06 13:39:09</td>\n",
              "      <td>2022-05-11 18:00:00</td>\n",
              "      <td>32691.36</td>\n",
              "      <td>434430100, 120400, Казахстан, г. Айтеке би, ул...</td>\n",
              "    </tr>\n",
              "    <tr>\n",
              "      <th>4</th>\n",
              "      <td>7575148-1</td>\n",
              "      <td>Услуга по обязательному техническому осмотру т...</td>\n",
              "      <td>/ru/announce/index/7575148</td>\n",
              "      <td>Организатор: Государственное учреждение \"Турке...</td>\n",
              "      <td>Из одного источника по несостоявшимся закупкам</td>\n",
              "      <td>2022-05-06 13:39:07</td>\n",
              "      <td>2022-05-11 18:00:00</td>\n",
              "      <td>136000.00</td>\n",
              "      <td>611010000, 161200, Казахстан, г. Туркестан, ул...</td>\n",
              "    </tr>\n",
              "    <tr>\n",
              "      <th>5</th>\n",
              "      <td>7575147-1</td>\n",
              "      <td>Шины летние для легковых автомобилей</td>\n",
              "      <td>/ru/announce/index/7575147</td>\n",
              "      <td>Организатор: Коммунальное государственное пред...</td>\n",
              "      <td>Из одного источника по несостоявшимся закупкам</td>\n",
              "      <td>2022-05-06 13:39:08</td>\n",
              "      <td>2022-05-11 18:00:00</td>\n",
              "      <td>88000.00</td>\n",
              "      <td>231010000, 060006, Казахстан, г. Атырау, ул. Б...</td>\n",
              "    </tr>\n",
              "  </tbody>\n",
              "</table>\n",
              "</div>\n",
              "      <button class=\"colab-df-convert\" onclick=\"convertToInteractive('df-6fc5b8d8-da5a-4d6c-b98f-55695c096485')\"\n",
              "              title=\"Convert this dataframe to an interactive table.\"\n",
              "              style=\"display:none;\">\n",
              "        \n",
              "  <svg xmlns=\"http://www.w3.org/2000/svg\" height=\"24px\"viewBox=\"0 0 24 24\"\n",
              "       width=\"24px\">\n",
              "    <path d=\"M0 0h24v24H0V0z\" fill=\"none\"/>\n",
              "    <path d=\"M18.56 5.44l.94 2.06.94-2.06 2.06-.94-2.06-.94-.94-2.06-.94 2.06-2.06.94zm-11 1L8.5 8.5l.94-2.06 2.06-.94-2.06-.94L8.5 2.5l-.94 2.06-2.06.94zm10 10l.94 2.06.94-2.06 2.06-.94-2.06-.94-.94-2.06-.94 2.06-2.06.94z\"/><path d=\"M17.41 7.96l-1.37-1.37c-.4-.4-.92-.59-1.43-.59-.52 0-1.04.2-1.43.59L10.3 9.45l-7.72 7.72c-.78.78-.78 2.05 0 2.83L4 21.41c.39.39.9.59 1.41.59.51 0 1.02-.2 1.41-.59l7.78-7.78 2.81-2.81c.8-.78.8-2.07 0-2.86zM5.41 20L4 18.59l7.72-7.72 1.47 1.35L5.41 20z\"/>\n",
              "  </svg>\n",
              "      </button>\n",
              "      \n",
              "  <style>\n",
              "    .colab-df-container {\n",
              "      display:flex;\n",
              "      flex-wrap:wrap;\n",
              "      gap: 12px;\n",
              "    }\n",
              "\n",
              "    .colab-df-convert {\n",
              "      background-color: #E8F0FE;\n",
              "      border: none;\n",
              "      border-radius: 50%;\n",
              "      cursor: pointer;\n",
              "      display: none;\n",
              "      fill: #1967D2;\n",
              "      height: 32px;\n",
              "      padding: 0 0 0 0;\n",
              "      width: 32px;\n",
              "    }\n",
              "\n",
              "    .colab-df-convert:hover {\n",
              "      background-color: #E2EBFA;\n",
              "      box-shadow: 0px 1px 2px rgba(60, 64, 67, 0.3), 0px 1px 3px 1px rgba(60, 64, 67, 0.15);\n",
              "      fill: #174EA6;\n",
              "    }\n",
              "\n",
              "    [theme=dark] .colab-df-convert {\n",
              "      background-color: #3B4455;\n",
              "      fill: #D2E3FC;\n",
              "    }\n",
              "\n",
              "    [theme=dark] .colab-df-convert:hover {\n",
              "      background-color: #434B5C;\n",
              "      box-shadow: 0px 1px 3px 1px rgba(0, 0, 0, 0.15);\n",
              "      filter: drop-shadow(0px 1px 2px rgba(0, 0, 0, 0.3));\n",
              "      fill: #FFFFFF;\n",
              "    }\n",
              "  </style>\n",
              "\n",
              "      <script>\n",
              "        const buttonEl =\n",
              "          document.querySelector('#df-6fc5b8d8-da5a-4d6c-b98f-55695c096485 button.colab-df-convert');\n",
              "        buttonEl.style.display =\n",
              "          google.colab.kernel.accessAllowed ? 'block' : 'none';\n",
              "\n",
              "        async function convertToInteractive(key) {\n",
              "          const element = document.querySelector('#df-6fc5b8d8-da5a-4d6c-b98f-55695c096485');\n",
              "          const dataTable =\n",
              "            await google.colab.kernel.invokeFunction('convertToInteractive',\n",
              "                                                     [key], {});\n",
              "          if (!dataTable) return;\n",
              "\n",
              "          const docLinkHtml = 'Like what you see? Visit the ' +\n",
              "            '<a target=\"_blank\" href=https://colab.research.google.com/notebooks/data_table.ipynb>data table notebook</a>'\n",
              "            + ' to learn more about interactive tables.';\n",
              "          element.innerHTML = '';\n",
              "          dataTable['output_type'] = 'display_data';\n",
              "          await google.colab.output.renderOutput(dataTable, element);\n",
              "          const docLink = document.createElement('div');\n",
              "          docLink.innerHTML = docLinkHtml;\n",
              "          element.appendChild(docLink);\n",
              "        }\n",
              "      </script>\n",
              "    </div>\n",
              "  </div>\n",
              "  "
            ],
            "text/plain": [
              "         num                                               name  \\\n",
              "1  7575151-1           ведро и швабра, тряпка для удаления пыли   \n",
              "2  7575150-1              Приобретение веник - совок для уборки   \n",
              "3  7575149-1                 Приобретение хозяйственных товаров   \n",
              "4  7575148-1  Услуга по обязательному техническому осмотру т...   \n",
              "5  7575147-1               Шины летние для легковых автомобилей   \n",
              "\n",
              "                         link  \\\n",
              "1  /ru/announce/index/7575151   \n",
              "2  /ru/announce/index/7575150   \n",
              "3  /ru/announce/index/7575149   \n",
              "4  /ru/announce/index/7575148   \n",
              "5  /ru/announce/index/7575147   \n",
              "\n",
              "                                           organizer  \\\n",
              "1  Организатор: Коммунальное государственное учре...   \n",
              "2  Организатор: Республиканское государственное у...   \n",
              "3  Организатор: Коммунальное государственное учре...   \n",
              "4  Организатор: Государственное учреждение \"Турке...   \n",
              "5  Организатор: Коммунальное государственное пред...   \n",
              "\n",
              "                                           status           startdate  \\\n",
              "1                      Запрос ценовых предложений 2022-05-06 14:39:07   \n",
              "2  Из одного источника по несостоявшимся закупкам 2022-05-06 13:39:13   \n",
              "3  Из одного источника по несостоявшимся закупкам 2022-05-06 13:39:09   \n",
              "4  Из одного источника по несостоявшимся закупкам 2022-05-06 13:39:07   \n",
              "5  Из одного источника по несостоявшимся закупкам 2022-05-06 13:39:08   \n",
              "\n",
              "            finaldate      price  \\\n",
              "1 2022-05-17 15:39:14   23316.00   \n",
              "2 2022-05-11 18:00:00   10714.28   \n",
              "3 2022-05-11 18:00:00   32691.36   \n",
              "4 2022-05-11 18:00:00  136000.00   \n",
              "5 2022-05-11 18:00:00   88000.00   \n",
              "\n",
              "                                             address  \n",
              "1  233620100, 060100, Казахстан, г. КУЛЬСАРЫ, ул....  \n",
              "2  632810000, 071412, Казахстан, г. Семей, ул. Ст...  \n",
              "3  434430100, 120400, Казахстан, г. Айтеке би, ул...  \n",
              "4  611010000, 161200, Казахстан, г. Туркестан, ул...  \n",
              "5  231010000, 060006, Казахстан, г. Атырау, ул. Б...  "
            ]
          },
          "execution_count": 45,
          "metadata": {},
          "output_type": "execute_result"
        }
      ],
      "source": [
        "zakupki.head()"
      ]
    },
    {
      "cell_type": "code",
      "execution_count": null,
      "metadata": {
        "id": "6gKYV4hkfR2v"
      },
      "outputs": [],
      "source": [
        "zakupki[\"code1\"] = None\n",
        "zakupki[\"code2\"] = None"
      ]
    },
    {
      "cell_type": "code",
      "execution_count": null,
      "metadata": {
        "id": "69_sh0N7kSjP"
      },
      "outputs": [],
      "source": [
        "for i, row in zakupki.iterrows():\n",
        "  l = row[\"address\"].split(',')\n",
        "  zakupki.at[i, \"code1\"] = l[0]\n",
        "  zakupki.at[i, \"code2\"] = l[1]"
      ]
    },
    {
      "cell_type": "code",
      "execution_count": null,
      "metadata": {
        "id": "eCh3yL8AxEDl"
      },
      "outputs": [],
      "source": [
        "z_copy = zakupki.copy()"
      ]
    },
    {
      "cell_type": "code",
      "execution_count": null,
      "metadata": {
        "id": "L21bY6OEkydd"
      },
      "outputs": [],
      "source": [
        "for i, row in zakupki.iterrows():\n",
        "  l = row[\"address\"].split(',')\n",
        "  zakupki.at[i, \"address\"] = \"\".join(l[2:])"
      ]
    },
    {
      "cell_type": "code",
      "execution_count": null,
      "metadata": {
        "colab": {
          "base_uri": "https://localhost:8080/",
          "height": 493
        },
        "id": "joOt7ARykoYZ",
        "outputId": "7f11ade7-7b4e-4b4d-cf79-932bf9217274"
      },
      "outputs": [
        {
          "data": {
            "text/html": [
              "\n",
              "  <div id=\"df-64a2c99b-85bf-4c38-abfa-c1723ee832e5\">\n",
              "    <div class=\"colab-df-container\">\n",
              "      <div>\n",
              "<style scoped>\n",
              "    .dataframe tbody tr th:only-of-type {\n",
              "        vertical-align: middle;\n",
              "    }\n",
              "\n",
              "    .dataframe tbody tr th {\n",
              "        vertical-align: top;\n",
              "    }\n",
              "\n",
              "    .dataframe thead th {\n",
              "        text-align: right;\n",
              "    }\n",
              "</style>\n",
              "<table border=\"1\" class=\"dataframe\">\n",
              "  <thead>\n",
              "    <tr style=\"text-align: right;\">\n",
              "      <th></th>\n",
              "      <th>num</th>\n",
              "      <th>name</th>\n",
              "      <th>link</th>\n",
              "      <th>organizer</th>\n",
              "      <th>status</th>\n",
              "      <th>startdate</th>\n",
              "      <th>finaldate</th>\n",
              "      <th>price</th>\n",
              "      <th>address</th>\n",
              "      <th>code1</th>\n",
              "      <th>code2</th>\n",
              "      <th>lon</th>\n",
              "      <th>lat</th>\n",
              "    </tr>\n",
              "  </thead>\n",
              "  <tbody>\n",
              "    <tr>\n",
              "      <th>1</th>\n",
              "      <td>7575825-1</td>\n",
              "      <td>Средства  моющее</td>\n",
              "      <td>/ru/announce/index/7575825</td>\n",
              "      <td>Организатор: Коммунальное государственное казе...</td>\n",
              "      <td>Запрос ценовых предложений</td>\n",
              "      <td>2022-05-06 15:00:00</td>\n",
              "      <td>2022-05-17 15:05:32</td>\n",
              "      <td>23760.00</td>\n",
              "      <td>Казахстан г. Зайсан ул. ШАКАРИМА д. 1А оф.</td>\n",
              "      <td>634620100</td>\n",
              "      <td>070700</td>\n",
              "      <td>None</td>\n",
              "      <td>None</td>\n",
              "    </tr>\n",
              "    <tr>\n",
              "      <th>2</th>\n",
              "      <td>7575818-1</td>\n",
              "      <td>Изготовление и монтаж Ролл-штор</td>\n",
              "      <td>/ru/announce/index/7575818</td>\n",
              "      <td>Организатор: Коммунальное государственное учре...</td>\n",
              "      <td>Запрос ценовых предложений</td>\n",
              "      <td>2022-05-06 15:00:00</td>\n",
              "      <td>2022-05-17 15:00:00</td>\n",
              "      <td>366709.19</td>\n",
              "      <td>Восточно-Казахстанская область Усть-Каменогор...</td>\n",
              "      <td>Казахстан</td>\n",
              "      <td>631010000</td>\n",
              "      <td>None</td>\n",
              "      <td>None</td>\n",
              "    </tr>\n",
              "    <tr>\n",
              "      <th>3</th>\n",
              "      <td>7575812-1</td>\n",
              "      <td>Оргтехника</td>\n",
              "      <td>/ru/announce/index/7575812</td>\n",
              "      <td>Организатор: Коммунальное государственное пред...</td>\n",
              "      <td>Из одного источника по несостоявшимся закупкам</td>\n",
              "      <td>2022-05-06 14:55:08</td>\n",
              "      <td>2022-05-11 18:00:00</td>\n",
              "      <td>157476.99</td>\n",
              "      <td>Восточно-Казахстанская область Усть-Каменогор...</td>\n",
              "      <td>КАЗАХСТАН</td>\n",
              "      <td>631010000</td>\n",
              "      <td>None</td>\n",
              "      <td>None</td>\n",
              "    </tr>\n",
              "    <tr>\n",
              "      <th>4</th>\n",
              "      <td>7575810-1</td>\n",
              "      <td>Приобретение хозяйственных товаров</td>\n",
              "      <td>/ru/announce/index/7575810</td>\n",
              "      <td>Организатор: Республиканское государственное у...</td>\n",
              "      <td>Запрос ценовых предложений</td>\n",
              "      <td>2022-05-11 09:00:00</td>\n",
              "      <td>2022-05-18 09:00:00</td>\n",
              "      <td>22500.00</td>\n",
              "      <td>Казахстан г. Усть-Каменогорск ул. Леваневског...</td>\n",
              "      <td>631010000</td>\n",
              "      <td>070013</td>\n",
              "      <td>None</td>\n",
              "      <td>None</td>\n",
              "    </tr>\n",
              "    <tr>\n",
              "      <th>5</th>\n",
              "      <td>7575809-1</td>\n",
              "      <td>Приобретение хозяйственных товаров</td>\n",
              "      <td>/ru/announce/index/7575809</td>\n",
              "      <td>Организатор: Коммунальное государственное учре...</td>\n",
              "      <td>Из одного источника по несостоявшимся закупкам</td>\n",
              "      <td>2022-05-06 14:55:08</td>\n",
              "      <td>2022-05-11 18:00:00</td>\n",
              "      <td>30000.00</td>\n",
              "      <td>Казахстан г. Каскелен ул. АУБАЙ БАЙГАЗИЕВ д. ...</td>\n",
              "      <td>195220100</td>\n",
              "      <td>040900</td>\n",
              "      <td>None</td>\n",
              "      <td>None</td>\n",
              "    </tr>\n",
              "  </tbody>\n",
              "</table>\n",
              "</div>\n",
              "      <button class=\"colab-df-convert\" onclick=\"convertToInteractive('df-64a2c99b-85bf-4c38-abfa-c1723ee832e5')\"\n",
              "              title=\"Convert this dataframe to an interactive table.\"\n",
              "              style=\"display:none;\">\n",
              "        \n",
              "  <svg xmlns=\"http://www.w3.org/2000/svg\" height=\"24px\"viewBox=\"0 0 24 24\"\n",
              "       width=\"24px\">\n",
              "    <path d=\"M0 0h24v24H0V0z\" fill=\"none\"/>\n",
              "    <path d=\"M18.56 5.44l.94 2.06.94-2.06 2.06-.94-2.06-.94-.94-2.06-.94 2.06-2.06.94zm-11 1L8.5 8.5l.94-2.06 2.06-.94-2.06-.94L8.5 2.5l-.94 2.06-2.06.94zm10 10l.94 2.06.94-2.06 2.06-.94-2.06-.94-.94-2.06-.94 2.06-2.06.94z\"/><path d=\"M17.41 7.96l-1.37-1.37c-.4-.4-.92-.59-1.43-.59-.52 0-1.04.2-1.43.59L10.3 9.45l-7.72 7.72c-.78.78-.78 2.05 0 2.83L4 21.41c.39.39.9.59 1.41.59.51 0 1.02-.2 1.41-.59l7.78-7.78 2.81-2.81c.8-.78.8-2.07 0-2.86zM5.41 20L4 18.59l7.72-7.72 1.47 1.35L5.41 20z\"/>\n",
              "  </svg>\n",
              "      </button>\n",
              "      \n",
              "  <style>\n",
              "    .colab-df-container {\n",
              "      display:flex;\n",
              "      flex-wrap:wrap;\n",
              "      gap: 12px;\n",
              "    }\n",
              "\n",
              "    .colab-df-convert {\n",
              "      background-color: #E8F0FE;\n",
              "      border: none;\n",
              "      border-radius: 50%;\n",
              "      cursor: pointer;\n",
              "      display: none;\n",
              "      fill: #1967D2;\n",
              "      height: 32px;\n",
              "      padding: 0 0 0 0;\n",
              "      width: 32px;\n",
              "    }\n",
              "\n",
              "    .colab-df-convert:hover {\n",
              "      background-color: #E2EBFA;\n",
              "      box-shadow: 0px 1px 2px rgba(60, 64, 67, 0.3), 0px 1px 3px 1px rgba(60, 64, 67, 0.15);\n",
              "      fill: #174EA6;\n",
              "    }\n",
              "\n",
              "    [theme=dark] .colab-df-convert {\n",
              "      background-color: #3B4455;\n",
              "      fill: #D2E3FC;\n",
              "    }\n",
              "\n",
              "    [theme=dark] .colab-df-convert:hover {\n",
              "      background-color: #434B5C;\n",
              "      box-shadow: 0px 1px 3px 1px rgba(0, 0, 0, 0.15);\n",
              "      filter: drop-shadow(0px 1px 2px rgba(0, 0, 0, 0.3));\n",
              "      fill: #FFFFFF;\n",
              "    }\n",
              "  </style>\n",
              "\n",
              "      <script>\n",
              "        const buttonEl =\n",
              "          document.querySelector('#df-64a2c99b-85bf-4c38-abfa-c1723ee832e5 button.colab-df-convert');\n",
              "        buttonEl.style.display =\n",
              "          google.colab.kernel.accessAllowed ? 'block' : 'none';\n",
              "\n",
              "        async function convertToInteractive(key) {\n",
              "          const element = document.querySelector('#df-64a2c99b-85bf-4c38-abfa-c1723ee832e5');\n",
              "          const dataTable =\n",
              "            await google.colab.kernel.invokeFunction('convertToInteractive',\n",
              "                                                     [key], {});\n",
              "          if (!dataTable) return;\n",
              "\n",
              "          const docLinkHtml = 'Like what you see? Visit the ' +\n",
              "            '<a target=\"_blank\" href=https://colab.research.google.com/notebooks/data_table.ipynb>data table notebook</a>'\n",
              "            + ' to learn more about interactive tables.';\n",
              "          element.innerHTML = '';\n",
              "          dataTable['output_type'] = 'display_data';\n",
              "          await google.colab.output.renderOutput(dataTable, element);\n",
              "          const docLink = document.createElement('div');\n",
              "          docLink.innerHTML = docLinkHtml;\n",
              "          element.appendChild(docLink);\n",
              "        }\n",
              "      </script>\n",
              "    </div>\n",
              "  </div>\n",
              "  "
            ],
            "text/plain": [
              "         num                                name                        link  \\\n",
              "1  7575825-1                    Средства  моющее  /ru/announce/index/7575825   \n",
              "2  7575818-1     Изготовление и монтаж Ролл-штор  /ru/announce/index/7575818   \n",
              "3  7575812-1                          Оргтехника  /ru/announce/index/7575812   \n",
              "4  7575810-1  Приобретение хозяйственных товаров  /ru/announce/index/7575810   \n",
              "5  7575809-1  Приобретение хозяйственных товаров  /ru/announce/index/7575809   \n",
              "\n",
              "                                           organizer  \\\n",
              "1  Организатор: Коммунальное государственное казе...   \n",
              "2  Организатор: Коммунальное государственное учре...   \n",
              "3  Организатор: Коммунальное государственное пред...   \n",
              "4  Организатор: Республиканское государственное у...   \n",
              "5  Организатор: Коммунальное государственное учре...   \n",
              "\n",
              "                                           status           startdate  \\\n",
              "1                      Запрос ценовых предложений 2022-05-06 15:00:00   \n",
              "2                      Запрос ценовых предложений 2022-05-06 15:00:00   \n",
              "3  Из одного источника по несостоявшимся закупкам 2022-05-06 14:55:08   \n",
              "4                      Запрос ценовых предложений 2022-05-11 09:00:00   \n",
              "5  Из одного источника по несостоявшимся закупкам 2022-05-06 14:55:08   \n",
              "\n",
              "            finaldate      price  \\\n",
              "1 2022-05-17 15:05:32   23760.00   \n",
              "2 2022-05-17 15:00:00  366709.19   \n",
              "3 2022-05-11 18:00:00  157476.99   \n",
              "4 2022-05-18 09:00:00   22500.00   \n",
              "5 2022-05-11 18:00:00   30000.00   \n",
              "\n",
              "                                             address      code1       code2  \\\n",
              "1        Казахстан г. Зайсан ул. ШАКАРИМА д. 1А оф.   634620100      070700   \n",
              "2   Восточно-Казахстанская область Усть-Каменогор...  Казахстан   631010000   \n",
              "3   Восточно-Казахстанская область Усть-Каменогор...  КАЗАХСТАН   631010000   \n",
              "4   Казахстан г. Усть-Каменогорск ул. Леваневског...  631010000      070013   \n",
              "5   Казахстан г. Каскелен ул. АУБАЙ БАЙГАЗИЕВ д. ...  195220100      040900   \n",
              "\n",
              "    lon   lat  \n",
              "1  None  None  \n",
              "2  None  None  \n",
              "3  None  None  \n",
              "4  None  None  \n",
              "5  None  None  "
            ]
          },
          "execution_count": 95,
          "metadata": {},
          "output_type": "execute_result"
        }
      ],
      "source": [
        "zakupki.head()"
      ]
    },
    {
      "cell_type": "code",
      "execution_count": null,
      "metadata": {
        "id": "bzGso7LHeVuw"
      },
      "outputs": [],
      "source": [
        "GEO_TOKEN = \"pk.eyJ1IjoiYW5peWFyYXNzZXQiLCJhIjoiY2wyN2Vzdm95MDZmcDNrcm04ZGRnYWRwaiJ9.RSiLEjFoYH89SiXomr3LpA\""
      ]
    },
    {
      "cell_type": "code",
      "execution_count": null,
      "metadata": {
        "id": "Oh8WAOnuwiyR"
      },
      "outputs": [],
      "source": [
        "zakupki[\"lon\"] = None\n",
        "zakupki[\"lat\"] = None"
      ]
    },
    {
      "cell_type": "code",
      "execution_count": null,
      "metadata": {
        "colab": {
          "base_uri": "https://localhost:8080/"
        },
        "id": "o0JUsESHxg0G",
        "outputId": "97136731-e868-4410-9876-f0d8bd7ad271"
      },
      "outputs": [
        {
          "name": "stdout",
          "output_type": "stream",
          "text": [
            "1 2 3 4 5 6 7 8 9 10 11 12 13 14 15 16 17 18 19 20 21 22 23 24 25 26 27 28 29 30 31 32 33 34 35 36 37 38 39 40 41 42 43 44 45 46 47 48 49 50 51 52 53 54 55 56 57 58 59 60 61 62 63 64 65 66 67 68 69 70 71 72 73 74 75 76 77 78 79 80 81 82 83 84 85 86 87 88 89 90 91 92 93 94 95 96 97 98 99 100 "
          ]
        }
      ],
      "source": [
        "for i, row in zakupki.iterrows():\n",
        "  g = geocoder.mapbox(row[\"address\"], key=GEO_TOKEN, country=\"KZ\", language=\"RU\")\n",
        "  zakupki.at[i, \"lon\"] = g.json['lng']\n",
        "  zakupki.at[i, \"lat\"] = g.json['lat']\n",
        "  print(i, end=\" \")"
      ]
    },
    {
      "cell_type": "code",
      "execution_count": null,
      "metadata": {
        "colab": {
          "base_uri": "https://localhost:8080/",
          "height": 528
        },
        "id": "LFWnnkV5yJiv",
        "outputId": "2ada14ce-573b-40c8-a8f2-eb0f6d321704"
      },
      "outputs": [
        {
          "data": {
            "text/html": [
              "\n",
              "  <div id=\"df-5b576492-1f99-4643-9940-fdb78ff106c7\">\n",
              "    <div class=\"colab-df-container\">\n",
              "      <div>\n",
              "<style scoped>\n",
              "    .dataframe tbody tr th:only-of-type {\n",
              "        vertical-align: middle;\n",
              "    }\n",
              "\n",
              "    .dataframe tbody tr th {\n",
              "        vertical-align: top;\n",
              "    }\n",
              "\n",
              "    .dataframe thead th {\n",
              "        text-align: right;\n",
              "    }\n",
              "</style>\n",
              "<table border=\"1\" class=\"dataframe\">\n",
              "  <thead>\n",
              "    <tr style=\"text-align: right;\">\n",
              "      <th></th>\n",
              "      <th>num</th>\n",
              "      <th>name</th>\n",
              "      <th>link</th>\n",
              "      <th>organizer</th>\n",
              "      <th>status</th>\n",
              "      <th>startdate</th>\n",
              "      <th>finaldate</th>\n",
              "      <th>price</th>\n",
              "      <th>address</th>\n",
              "      <th>code1</th>\n",
              "      <th>code2</th>\n",
              "      <th>lon</th>\n",
              "      <th>lat</th>\n",
              "    </tr>\n",
              "  </thead>\n",
              "  <tbody>\n",
              "    <tr>\n",
              "      <th>1</th>\n",
              "      <td>7575825-1</td>\n",
              "      <td>Средства  моющее</td>\n",
              "      <td>/ru/announce/index/7575825</td>\n",
              "      <td>Организатор: Коммунальное государственное казе...</td>\n",
              "      <td>Запрос ценовых предложений</td>\n",
              "      <td>2022-05-06 15:00:00</td>\n",
              "      <td>2022-05-17 15:05:32</td>\n",
              "      <td>23760.00</td>\n",
              "      <td>Казахстан г. Зайсан ул. ШАКАРИМА д. 1А оф.</td>\n",
              "      <td>634620100</td>\n",
              "      <td>070700</td>\n",
              "      <td>84.8758</td>\n",
              "      <td>47.465</td>\n",
              "    </tr>\n",
              "    <tr>\n",
              "      <th>2</th>\n",
              "      <td>7575818-1</td>\n",
              "      <td>Изготовление и монтаж Ролл-штор</td>\n",
              "      <td>/ru/announce/index/7575818</td>\n",
              "      <td>Организатор: Коммунальное государственное учре...</td>\n",
              "      <td>Запрос ценовых предложений</td>\n",
              "      <td>2022-05-06 15:00:00</td>\n",
              "      <td>2022-05-17 15:00:00</td>\n",
              "      <td>366709.19</td>\n",
              "      <td>Восточно-Казахстанская область Усть-Каменогор...</td>\n",
              "      <td>Казахстан</td>\n",
              "      <td>631010000</td>\n",
              "      <td>82.578641</td>\n",
              "      <td>49.988599</td>\n",
              "    </tr>\n",
              "    <tr>\n",
              "      <th>3</th>\n",
              "      <td>7575812-1</td>\n",
              "      <td>Оргтехника</td>\n",
              "      <td>/ru/announce/index/7575812</td>\n",
              "      <td>Организатор: Коммунальное государственное пред...</td>\n",
              "      <td>Из одного источника по несостоявшимся закупкам</td>\n",
              "      <td>2022-05-06 14:55:08</td>\n",
              "      <td>2022-05-11 18:00:00</td>\n",
              "      <td>157476.99</td>\n",
              "      <td>Восточно-Казахстанская область Усть-Каменогор...</td>\n",
              "      <td>КАЗАХСТАН</td>\n",
              "      <td>631010000</td>\n",
              "      <td>82.578641</td>\n",
              "      <td>49.988599</td>\n",
              "    </tr>\n",
              "    <tr>\n",
              "      <th>4</th>\n",
              "      <td>7575810-1</td>\n",
              "      <td>Приобретение хозяйственных товаров</td>\n",
              "      <td>/ru/announce/index/7575810</td>\n",
              "      <td>Организатор: Республиканское государственное у...</td>\n",
              "      <td>Запрос ценовых предложений</td>\n",
              "      <td>2022-05-11 09:00:00</td>\n",
              "      <td>2022-05-18 09:00:00</td>\n",
              "      <td>22500.00</td>\n",
              "      <td>Казахстан г. Усть-Каменогорск ул. Леваневског...</td>\n",
              "      <td>631010000</td>\n",
              "      <td>070013</td>\n",
              "      <td>82.578641</td>\n",
              "      <td>49.988599</td>\n",
              "    </tr>\n",
              "    <tr>\n",
              "      <th>5</th>\n",
              "      <td>7575809-1</td>\n",
              "      <td>Приобретение хозяйственных товаров</td>\n",
              "      <td>/ru/announce/index/7575809</td>\n",
              "      <td>Организатор: Коммунальное государственное учре...</td>\n",
              "      <td>Из одного источника по несостоявшимся закупкам</td>\n",
              "      <td>2022-05-06 14:55:08</td>\n",
              "      <td>2022-05-11 18:00:00</td>\n",
              "      <td>30000.00</td>\n",
              "      <td>Казахстан г. Каскелен ул. АУБАЙ БАЙГАЗИЕВ д. ...</td>\n",
              "      <td>195220100</td>\n",
              "      <td>040900</td>\n",
              "      <td>76.635148</td>\n",
              "      <td>43.199797</td>\n",
              "    </tr>\n",
              "  </tbody>\n",
              "</table>\n",
              "</div>\n",
              "      <button class=\"colab-df-convert\" onclick=\"convertToInteractive('df-5b576492-1f99-4643-9940-fdb78ff106c7')\"\n",
              "              title=\"Convert this dataframe to an interactive table.\"\n",
              "              style=\"display:none;\">\n",
              "        \n",
              "  <svg xmlns=\"http://www.w3.org/2000/svg\" height=\"24px\"viewBox=\"0 0 24 24\"\n",
              "       width=\"24px\">\n",
              "    <path d=\"M0 0h24v24H0V0z\" fill=\"none\"/>\n",
              "    <path d=\"M18.56 5.44l.94 2.06.94-2.06 2.06-.94-2.06-.94-.94-2.06-.94 2.06-2.06.94zm-11 1L8.5 8.5l.94-2.06 2.06-.94-2.06-.94L8.5 2.5l-.94 2.06-2.06.94zm10 10l.94 2.06.94-2.06 2.06-.94-2.06-.94-.94-2.06-.94 2.06-2.06.94z\"/><path d=\"M17.41 7.96l-1.37-1.37c-.4-.4-.92-.59-1.43-.59-.52 0-1.04.2-1.43.59L10.3 9.45l-7.72 7.72c-.78.78-.78 2.05 0 2.83L4 21.41c.39.39.9.59 1.41.59.51 0 1.02-.2 1.41-.59l7.78-7.78 2.81-2.81c.8-.78.8-2.07 0-2.86zM5.41 20L4 18.59l7.72-7.72 1.47 1.35L5.41 20z\"/>\n",
              "  </svg>\n",
              "      </button>\n",
              "      \n",
              "  <style>\n",
              "    .colab-df-container {\n",
              "      display:flex;\n",
              "      flex-wrap:wrap;\n",
              "      gap: 12px;\n",
              "    }\n",
              "\n",
              "    .colab-df-convert {\n",
              "      background-color: #E8F0FE;\n",
              "      border: none;\n",
              "      border-radius: 50%;\n",
              "      cursor: pointer;\n",
              "      display: none;\n",
              "      fill: #1967D2;\n",
              "      height: 32px;\n",
              "      padding: 0 0 0 0;\n",
              "      width: 32px;\n",
              "    }\n",
              "\n",
              "    .colab-df-convert:hover {\n",
              "      background-color: #E2EBFA;\n",
              "      box-shadow: 0px 1px 2px rgba(60, 64, 67, 0.3), 0px 1px 3px 1px rgba(60, 64, 67, 0.15);\n",
              "      fill: #174EA6;\n",
              "    }\n",
              "\n",
              "    [theme=dark] .colab-df-convert {\n",
              "      background-color: #3B4455;\n",
              "      fill: #D2E3FC;\n",
              "    }\n",
              "\n",
              "    [theme=dark] .colab-df-convert:hover {\n",
              "      background-color: #434B5C;\n",
              "      box-shadow: 0px 1px 3px 1px rgba(0, 0, 0, 0.15);\n",
              "      filter: drop-shadow(0px 1px 2px rgba(0, 0, 0, 0.3));\n",
              "      fill: #FFFFFF;\n",
              "    }\n",
              "  </style>\n",
              "\n",
              "      <script>\n",
              "        const buttonEl =\n",
              "          document.querySelector('#df-5b576492-1f99-4643-9940-fdb78ff106c7 button.colab-df-convert');\n",
              "        buttonEl.style.display =\n",
              "          google.colab.kernel.accessAllowed ? 'block' : 'none';\n",
              "\n",
              "        async function convertToInteractive(key) {\n",
              "          const element = document.querySelector('#df-5b576492-1f99-4643-9940-fdb78ff106c7');\n",
              "          const dataTable =\n",
              "            await google.colab.kernel.invokeFunction('convertToInteractive',\n",
              "                                                     [key], {});\n",
              "          if (!dataTable) return;\n",
              "\n",
              "          const docLinkHtml = 'Like what you see? Visit the ' +\n",
              "            '<a target=\"_blank\" href=https://colab.research.google.com/notebooks/data_table.ipynb>data table notebook</a>'\n",
              "            + ' to learn more about interactive tables.';\n",
              "          element.innerHTML = '';\n",
              "          dataTable['output_type'] = 'display_data';\n",
              "          await google.colab.output.renderOutput(dataTable, element);\n",
              "          const docLink = document.createElement('div');\n",
              "          docLink.innerHTML = docLinkHtml;\n",
              "          element.appendChild(docLink);\n",
              "        }\n",
              "      </script>\n",
              "    </div>\n",
              "  </div>\n",
              "  "
            ],
            "text/plain": [
              "         num                                name                        link  \\\n",
              "1  7575825-1                    Средства  моющее  /ru/announce/index/7575825   \n",
              "2  7575818-1     Изготовление и монтаж Ролл-штор  /ru/announce/index/7575818   \n",
              "3  7575812-1                          Оргтехника  /ru/announce/index/7575812   \n",
              "4  7575810-1  Приобретение хозяйственных товаров  /ru/announce/index/7575810   \n",
              "5  7575809-1  Приобретение хозяйственных товаров  /ru/announce/index/7575809   \n",
              "\n",
              "                                           organizer  \\\n",
              "1  Организатор: Коммунальное государственное казе...   \n",
              "2  Организатор: Коммунальное государственное учре...   \n",
              "3  Организатор: Коммунальное государственное пред...   \n",
              "4  Организатор: Республиканское государственное у...   \n",
              "5  Организатор: Коммунальное государственное учре...   \n",
              "\n",
              "                                           status           startdate  \\\n",
              "1                      Запрос ценовых предложений 2022-05-06 15:00:00   \n",
              "2                      Запрос ценовых предложений 2022-05-06 15:00:00   \n",
              "3  Из одного источника по несостоявшимся закупкам 2022-05-06 14:55:08   \n",
              "4                      Запрос ценовых предложений 2022-05-11 09:00:00   \n",
              "5  Из одного источника по несостоявшимся закупкам 2022-05-06 14:55:08   \n",
              "\n",
              "            finaldate      price  \\\n",
              "1 2022-05-17 15:05:32   23760.00   \n",
              "2 2022-05-17 15:00:00  366709.19   \n",
              "3 2022-05-11 18:00:00  157476.99   \n",
              "4 2022-05-18 09:00:00   22500.00   \n",
              "5 2022-05-11 18:00:00   30000.00   \n",
              "\n",
              "                                             address      code1       code2  \\\n",
              "1        Казахстан г. Зайсан ул. ШАКАРИМА д. 1А оф.   634620100      070700   \n",
              "2   Восточно-Казахстанская область Усть-Каменогор...  Казахстан   631010000   \n",
              "3   Восточно-Казахстанская область Усть-Каменогор...  КАЗАХСТАН   631010000   \n",
              "4   Казахстан г. Усть-Каменогорск ул. Леваневског...  631010000      070013   \n",
              "5   Казахстан г. Каскелен ул. АУБАЙ БАЙГАЗИЕВ д. ...  195220100      040900   \n",
              "\n",
              "         lon        lat  \n",
              "1    84.8758     47.465  \n",
              "2  82.578641  49.988599  \n",
              "3  82.578641  49.988599  \n",
              "4  82.578641  49.988599  \n",
              "5  76.635148  43.199797  "
            ]
          },
          "execution_count": 101,
          "metadata": {},
          "output_type": "execute_result"
        }
      ],
      "source": [
        "zakupki.head()"
      ]
    },
    {
      "cell_type": "code",
      "execution_count": null,
      "metadata": {
        "colab": {
          "base_uri": "https://localhost:8080/"
        },
        "id": "3p41_GIkV-hE",
        "outputId": "3619c64f-06c0-4284-fbae-8fd8534afe62"
      },
      "outputs": [
        {
          "name": "stdout",
          "output_type": "stream",
          "text": [
            "Collecting chart-studio\n",
            "  Downloading chart_studio-1.1.0-py3-none-any.whl (64 kB)\n",
            "\u001b[?25l\r\u001b[K     |█████                           | 10 kB 20.4 MB/s eta 0:00:01\r\u001b[K     |██████████▏                     | 20 kB 9.8 MB/s eta 0:00:01\r\u001b[K     |███████████████▎                | 30 kB 7.5 MB/s eta 0:00:01\r\u001b[K     |████████████████████▍           | 40 kB 6.8 MB/s eta 0:00:01\r\u001b[K     |█████████████████████████▍      | 51 kB 4.1 MB/s eta 0:00:01\r\u001b[K     |██████████████████████████████▌ | 61 kB 4.7 MB/s eta 0:00:01\r\u001b[K     |████████████████████████████████| 64 kB 1.1 MB/s \n",
            "\u001b[?25hRequirement already satisfied: requests in /usr/local/lib/python3.7/dist-packages (from chart-studio) (2.23.0)\n",
            "Collecting retrying>=1.3.3\n",
            "  Downloading retrying-1.3.3.tar.gz (10 kB)\n",
            "Requirement already satisfied: plotly in /usr/local/lib/python3.7/dist-packages (from chart-studio) (5.5.0)\n",
            "Requirement already satisfied: six in /usr/local/lib/python3.7/dist-packages (from chart-studio) (1.15.0)\n",
            "Requirement already satisfied: tenacity>=6.2.0 in /usr/local/lib/python3.7/dist-packages (from plotly->chart-studio) (8.0.1)\n",
            "Requirement already satisfied: chardet<4,>=3.0.2 in /usr/local/lib/python3.7/dist-packages (from requests->chart-studio) (3.0.4)\n",
            "Requirement already satisfied: certifi>=2017.4.17 in /usr/local/lib/python3.7/dist-packages (from requests->chart-studio) (2021.10.8)\n",
            "Requirement already satisfied: idna<3,>=2.5 in /usr/local/lib/python3.7/dist-packages (from requests->chart-studio) (2.10)\n",
            "Requirement already satisfied: urllib3!=1.25.0,!=1.25.1,<1.26,>=1.21.1 in /usr/local/lib/python3.7/dist-packages (from requests->chart-studio) (1.24.3)\n",
            "Building wheels for collected packages: retrying\n",
            "  Building wheel for retrying (setup.py) ... \u001b[?25l\u001b[?25hdone\n",
            "  Created wheel for retrying: filename=retrying-1.3.3-py3-none-any.whl size=11447 sha256=d73eb9bf205271a0e2672edafd899b9faf9ea529690bee41a2d0c073d9f4d8bc\n",
            "  Stored in directory: /root/.cache/pip/wheels/f9/8d/8d/f6af3f7f9eea3553bc2fe6d53e4b287dad18b06a861ac56ddf\n",
            "Successfully built retrying\n",
            "Installing collected packages: retrying, chart-studio\n",
            "Successfully installed chart-studio-1.1.0 retrying-1.3.3\n"
          ]
        }
      ],
      "source": [
        "!pip install chart-studio"
      ]
    },
    {
      "cell_type": "code",
      "execution_count": null,
      "metadata": {
        "colab": {
          "base_uri": "https://localhost:8080/",
          "height": 374
        },
        "id": "ruoitk-WyX29",
        "outputId": "b31b6935-795d-4bbc-df93-ee652e95c643"
      },
      "outputs": [
        {
          "ename": "ModuleNotFoundError",
          "evalue": "ignored",
          "output_type": "error",
          "traceback": [
            "\u001b[0;31m---------------------------------------------------------------------------\u001b[0m",
            "\u001b[0;31mModuleNotFoundError\u001b[0m                       Traceback (most recent call last)",
            "\u001b[0;32m<ipython-input-107-62c4ee401b7d>\u001b[0m in \u001b[0;36m<module>\u001b[0;34m()\u001b[0m\n\u001b[1;32m      1\u001b[0m \u001b[0;32mimport\u001b[0m \u001b[0mchart_studio\u001b[0m\u001b[0;34m.\u001b[0m\u001b[0mplotly\u001b[0m \u001b[0;32mas\u001b[0m \u001b[0mpy\u001b[0m\u001b[0;34m\u001b[0m\u001b[0;34m\u001b[0m\u001b[0m\n\u001b[1;32m      2\u001b[0m \u001b[0;32mimport\u001b[0m \u001b[0mchart_studio\u001b[0m\u001b[0;34m.\u001b[0m\u001b[0mtools\u001b[0m \u001b[0;32mas\u001b[0m \u001b[0mtl\u001b[0m\u001b[0;34m\u001b[0m\u001b[0;34m\u001b[0m\u001b[0m\n\u001b[0;32m----> 3\u001b[0;31m \u001b[0;32mimport\u001b[0m \u001b[0mchart_studio\u001b[0m\u001b[0;34m.\u001b[0m\u001b[0mgraph_objs\u001b[0m \u001b[0;32mas\u001b[0m \u001b[0mgo\u001b[0m\u001b[0;34m\u001b[0m\u001b[0;34m\u001b[0m\u001b[0m\n\u001b[0m\u001b[1;32m      4\u001b[0m \u001b[0;32mimport\u001b[0m \u001b[0mpandas\u001b[0m \u001b[0;32mas\u001b[0m \u001b[0mpd\u001b[0m\u001b[0;34m\u001b[0m\u001b[0;34m\u001b[0m\u001b[0m\n\u001b[1;32m      5\u001b[0m \u001b[0;34m\u001b[0m\u001b[0m\n",
            "\u001b[0;31mModuleNotFoundError\u001b[0m: No module named 'chart_studio.graph_objs'",
            "",
            "\u001b[0;31m---------------------------------------------------------------------------\u001b[0;32m\nNOTE: If your import is failing due to a missing package, you can\nmanually install dependencies using either !pip or !apt.\n\nTo view examples of installing some common dependencies, click the\n\"Open Examples\" button below.\n\u001b[0;31m---------------------------------------------------------------------------\u001b[0m\n"
          ]
        }
      ],
      "source": [
        "import chart_studio.plotly as py\n",
        "import chart_studio.tools as tl\n",
        "import chart_studio.graph_objs as go\n",
        "import pandas as pd\n",
        "\n",
        "# Change API key for Plotly \n",
        "\n",
        "tl.set_credentials_file(username='aschrock', api_key='CWwy1WgujKrPK4Z1J0Oh')\n",
        "\n",
        "# Add Mapbox access token here \n",
        "\n",
        "mapbox_access_token = 'pk.eyJ1IjoiYXNjaHJvY2siLCJhIjoiY2p2NnRoeHc2MDkxbTQ0bnR6aTVwZDNsaCJ9.MA76hkxD3rOGgnVCDBVC9w'\n",
        "\n",
        "df = pd.read_csv('http://geohub.lacity.org/datasets/259473fbb4b34ff182581f411fe4c918_49.csv')\n",
        "\n",
        "# Save latitude and longitude as variables. In this dataset, the X column is longitude and the Y column is latitude. \n",
        "\n",
        "site_lat = df.Y\n",
        "site_lon = df.X\n",
        "locations_name = df.Name\n",
        "\n",
        "# Generate the data for the map \n",
        "\n",
        "data = [\n",
        "    go.Scattermapbox(\n",
        "        lat=site_lat,\n",
        "        lon=site_lon,\n",
        "        mode='markers',\n",
        "        marker=dict(\n",
        "            size=3,\n",
        "            color='rgb(255, 0, 0)',\n",
        "            opacity=1\n",
        "        ),\n",
        "        text=locations_name,\n",
        "        hoverinfo='text'\n",
        "    ),\n",
        "    go.Scattermapbox(\n",
        "        lat=site_lat,\n",
        "        lon=site_lon,\n",
        "        mode='markers',\n",
        "        marker=dict(\n",
        "            size=8,\n",
        "            color='rgb(242, 177, 172)',\n",
        "            opacity=0.8\n",
        "        ),\n",
        "        hoverinfo='none'\n",
        "    )]\n",
        "\n",
        "\n",
        "# Generate a layout around Los Angeles, zoomed in so we can see the data points \n",
        "\n",
        "layout = go.Layout(\n",
        "    title='LA Public Schools',\n",
        "    autosize=True,\n",
        "    hovermode='closest',\n",
        "    showlegend=False,\n",
        "    mapbox=dict(\n",
        "        accesstoken=mapbox_access_token,\n",
        "        bearing=0,\n",
        "        center=dict(\n",
        "            lat=34.0537,\n",
        "            lon=-118.2427\n",
        "        ),\n",
        "        pitch=0,\n",
        "        zoom=10,\n",
        "        style='light'\n",
        "    ),\n",
        ")\n",
        "\t\n",
        "# Generate the figure using the iplot function \n",
        "  \n",
        "fig = dict(data=data, layout=layout)\n",
        "py.iplot(fig, filename='Los Angeles Public Elementary Schools')"
      ]
    },
    {
      "cell_type": "code",
      "execution_count": null,
      "metadata": {
        "id": "UxyJ0B2kK6Rj"
      },
      "outputs": [],
      "source": [
        "res = urlopen(url, context=context)\n",
        "soup = BeautifulSoup(res, \"html.parser\")"
      ]
    },
    {
      "cell_type": "code",
      "execution_count": null,
      "metadata": {
        "id": "lDxabw9rLP7L"
      },
      "outputs": [],
      "source": [
        "table = soup.find_all(\"table\")[0]\n",
        "rows = table.findAll('tr')"
      ]
    },
    {
      "cell_type": "code",
      "execution_count": null,
      "metadata": {
        "colab": {
          "base_uri": "https://localhost:8080/",
          "height": 236
        },
        "id": "AoRPQDMfLoKc",
        "outputId": "04422ccf-3cf9-4a17-dbd8-2e54e19a57db"
      },
      "outputs": [
        {
          "ename": "ValueError",
          "evalue": "ignored",
          "output_type": "error",
          "traceback": [
            "\u001b[0;31m---------------------------------------------------------------------------\u001b[0m",
            "\u001b[0;31mValueError\u001b[0m                                Traceback (most recent call last)",
            "\u001b[0;32m<ipython-input-88-07e8124279ba>\u001b[0m in \u001b[0;36m<module>\u001b[0;34m()\u001b[0m\n\u001b[1;32m      5\u001b[0m \u001b[0mdic\u001b[0m\u001b[0;34m[\u001b[0m\u001b[0;34m\"organizer\"\u001b[0m\u001b[0;34m]\u001b[0m \u001b[0;34m=\u001b[0m \u001b[0mrows\u001b[0m\u001b[0;34m[\u001b[0m\u001b[0;36m3\u001b[0m\u001b[0;34m]\u001b[0m\u001b[0;34m.\u001b[0m\u001b[0mfind\u001b[0m\u001b[0;34m(\u001b[0m\u001b[0;34m'td'\u001b[0m\u001b[0;34m)\u001b[0m\u001b[0;34m.\u001b[0m\u001b[0mtext\u001b[0m\u001b[0;34m\u001b[0m\u001b[0;34m\u001b[0m\u001b[0m\n\u001b[1;32m      6\u001b[0m \u001b[0mdic\u001b[0m\u001b[0;34m[\u001b[0m\u001b[0;34m\"organizer_address\"\u001b[0m\u001b[0;34m]\u001b[0m \u001b[0;34m=\u001b[0m \u001b[0mrows\u001b[0m\u001b[0;34m[\u001b[0m\u001b[0;36m4\u001b[0m\u001b[0;34m]\u001b[0m\u001b[0;34m.\u001b[0m\u001b[0mfind\u001b[0m\u001b[0;34m(\u001b[0m\u001b[0;34m'td'\u001b[0m\u001b[0;34m)\u001b[0m\u001b[0;34m.\u001b[0m\u001b[0mtext\u001b[0m\u001b[0;34m\u001b[0m\u001b[0;34m\u001b[0m\u001b[0m\n\u001b[0;32m----> 7\u001b[0;31m \u001b[0mdic\u001b[0m\u001b[0;34m[\u001b[0m\u001b[0;34m\"n_lots\"\u001b[0m\u001b[0;34m]\u001b[0m \u001b[0;34m=\u001b[0m \u001b[0mint\u001b[0m\u001b[0;34m(\u001b[0m\u001b[0mrows\u001b[0m\u001b[0;34m[\u001b[0m\u001b[0;36m5\u001b[0m\u001b[0;34m]\u001b[0m\u001b[0;34m.\u001b[0m\u001b[0mfind\u001b[0m\u001b[0;34m(\u001b[0m\u001b[0;34m'td'\u001b[0m\u001b[0;34m)\u001b[0m\u001b[0;34m.\u001b[0m\u001b[0mtext\u001b[0m\u001b[0;34m)\u001b[0m\u001b[0;34m\u001b[0m\u001b[0;34m\u001b[0m\u001b[0m\n\u001b[0m\u001b[1;32m      8\u001b[0m \u001b[0mdic\u001b[0m\u001b[0;34m[\u001b[0m\u001b[0;34m\"sum\"\u001b[0m\u001b[0;34m]\u001b[0m \u001b[0;34m=\u001b[0m \u001b[0mfloat\u001b[0m\u001b[0;34m(\u001b[0m\u001b[0mrows\u001b[0m\u001b[0;34m[\u001b[0m\u001b[0;36m6\u001b[0m\u001b[0;34m]\u001b[0m\u001b[0;34m.\u001b[0m\u001b[0mfind\u001b[0m\u001b[0;34m(\u001b[0m\u001b[0;34m'td'\u001b[0m\u001b[0;34m)\u001b[0m\u001b[0;34m.\u001b[0m\u001b[0mtext\u001b[0m\u001b[0;34m.\u001b[0m\u001b[0mreplace\u001b[0m\u001b[0;34m(\u001b[0m\u001b[0;34m' '\u001b[0m\u001b[0;34m,\u001b[0m\u001b[0;34m''\u001b[0m\u001b[0;34m)\u001b[0m\u001b[0;34m.\u001b[0m\u001b[0mreplace\u001b[0m\u001b[0;34m(\u001b[0m\u001b[0;34m','\u001b[0m\u001b[0;34m,\u001b[0m\u001b[0;34m'.'\u001b[0m\u001b[0;34m)\u001b[0m\u001b[0;34m)\u001b[0m\u001b[0;34m\u001b[0m\u001b[0;34m\u001b[0m\u001b[0m\n\u001b[1;32m      9\u001b[0m \u001b[0mdic\u001b[0m\u001b[0;34m[\u001b[0m\u001b[0;34m\"mark\"\u001b[0m\u001b[0;34m]\u001b[0m \u001b[0;34m=\u001b[0m \u001b[0mrows\u001b[0m\u001b[0;34m[\u001b[0m\u001b[0;36m7\u001b[0m\u001b[0;34m]\u001b[0m\u001b[0;34m.\u001b[0m\u001b[0mfind\u001b[0m\u001b[0;34m(\u001b[0m\u001b[0;34m'td'\u001b[0m\u001b[0;34m)\u001b[0m\u001b[0;34m.\u001b[0m\u001b[0mtext\u001b[0m\u001b[0;34m.\u001b[0m\u001b[0mstrip\u001b[0m\u001b[0;34m(\u001b[0m\u001b[0;34m)\u001b[0m\u001b[0;34m\u001b[0m\u001b[0;34m\u001b[0m\u001b[0m\n",
            "\u001b[0;31mValueError\u001b[0m: invalid literal for int() with base 10: '234656100, 060401, Казахстан, г. Кигач, ул. БОКЕЙ ХАН, д. 33, оф. '"
          ]
        }
      ],
      "source": [
        "dic = {}\n",
        "dic[\"method\"] = rows[0].find('td').text\n",
        "dic[\"type\"] = rows[1].find('td').text\n",
        "dic[\"class\"] = rows[2].find('td').text\n",
        "dic[\"organizer\"] = rows[3].find('td').text\n",
        "dic[\"organizer_address\"] = rows[4].find('td').text\n",
        "dic[\"n_lots\"] = int(rows[5].find('td').text)\n",
        "dic[\"sum\"] = float(rows[6].find('td').text.replace(' ','').replace(',','.'))\n",
        "dic[\"mark\"] = rows[7].find('td').text.strip()"
      ]
    },
    {
      "cell_type": "code",
      "execution_count": null,
      "metadata": {
        "colab": {
          "base_uri": "https://localhost:8080/"
        },
        "id": "DgQ60qrbNL7c",
        "outputId": "f3214e3c-ba98-45d0-c412-8e55d570b433"
      },
      "outputs": [
        {
          "data": {
            "text/plain": [
              "{'class': 'Услуга',\n",
              " 'mark': 'Без учета НДС',\n",
              " 'method': 'Запрос ценовых предложений',\n",
              " 'n_lots': 1,\n",
              " 'organizer': '060540007332 Коммунальное государственное учреждение \"Общеобразовательная Исатайская средняя школа\" отдела образования Исатайского района Управления образования Атырауской области\"',\n",
              " 'organizer_address': 'Казахстан, 234239100, Атырауская область, Исатайский район, Исатайский с.о., с.Исатай, ул. ЖУМАБАЙ КУАНЫШЕВ, д. 20, оф. ',\n",
              " 'sum': 30000.0,\n",
              " 'type': 'Первая закупка '}"
            ]
          },
          "execution_count": 73,
          "metadata": {},
          "output_type": "execute_result"
        }
      ],
      "source": [
        "dic"
      ]
    },
    {
      "cell_type": "code",
      "execution_count": null,
      "metadata": {
        "id": "VsdSYGuOLN0L"
      },
      "outputs": [],
      "source": [
        "table = soup.find(\"table\", id=\"search-result\")\n",
        "rows = table.findAll('tr')"
      ]
    },
    {
      "cell_type": "code",
      "execution_count": null,
      "metadata": {
        "id": "3SwbK16A09rk"
      },
      "outputs": [],
      "source": [
        "with open('zakupki0.json', 'w', encoding='utf-8') as f:\n",
        "  f.write(zakupki.to_json())"
      ]
    },
    {
      "cell_type": "code",
      "execution_count": null,
      "metadata": {
        "colab": {
          "base_uri": "https://localhost:8080/",
          "height": 17
        },
        "id": "yiTg4gIh5VhL",
        "outputId": "a155cd70-913d-4ff0-b213-9ded2feae3d8"
      },
      "outputs": [
        {
          "data": {
            "application/javascript": "\n    async function download(id, filename, size) {\n      if (!google.colab.kernel.accessAllowed) {\n        return;\n      }\n      const div = document.createElement('div');\n      const label = document.createElement('label');\n      label.textContent = `Downloading \"${filename}\": `;\n      div.appendChild(label);\n      const progress = document.createElement('progress');\n      progress.max = size;\n      div.appendChild(progress);\n      document.body.appendChild(div);\n\n      const buffers = [];\n      let downloaded = 0;\n\n      const channel = await google.colab.kernel.comms.open(id);\n      // Send a message to notify the kernel that we're ready.\n      channel.send({})\n\n      for await (const message of channel.messages) {\n        // Send a message to notify the kernel that we're ready.\n        channel.send({})\n        if (message.buffers) {\n          for (const buffer of message.buffers) {\n            buffers.push(buffer);\n            downloaded += buffer.byteLength;\n            progress.value = downloaded;\n          }\n        }\n      }\n      const blob = new Blob(buffers, {type: 'application/binary'});\n      const a = document.createElement('a');\n      a.href = window.URL.createObjectURL(blob);\n      a.download = filename;\n      div.appendChild(a);\n      a.click();\n      div.remove();\n    }\n  ",
            "text/plain": [
              "<IPython.core.display.Javascript object>"
            ]
          },
          "metadata": {},
          "output_type": "display_data"
        },
        {
          "data": {
            "application/javascript": "download(\"download_e800386d-358a-4b97-b457-7850857f7b55\", \"zakupki0.json\", 722325329)",
            "text/plain": [
              "<IPython.core.display.Javascript object>"
            ]
          },
          "metadata": {},
          "output_type": "display_data"
        }
      ],
      "source": [
        "# Download the file.\n",
        "from google.colab import files\n",
        "files.download('zakupki0.json')"
      ]
    },
    {
      "cell_type": "code",
      "execution_count": null,
      "metadata": {
        "id": "asq3sIvY5Aov"
      },
      "outputs": [],
      "source": []
    }
  ],
  "metadata": {
    "colab": {
      "collapsed_sections": [],
      "name": "scraper.ipynb",
      "provenance": []
    },
    "kernelspec": {
      "display_name": "Python 3",
      "name": "python3"
    },
    "language_info": {
      "codemirror_mode": {
        "name": "ipython",
        "version": 3
      },
      "file_extension": ".py",
      "mimetype": "text/x-python",
      "name": "python",
      "nbconvert_exporter": "python",
      "pygments_lexer": "ipython3",
      "version": "3.8.3"
    }
  },
  "nbformat": 4,
  "nbformat_minor": 0
}
